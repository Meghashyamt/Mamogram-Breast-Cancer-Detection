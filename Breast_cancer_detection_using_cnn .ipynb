{
  "nbformat": 4,
  "nbformat_minor": 0,
  "metadata": {
    "kernelspec": {
      "display_name": "Python 3",
      "language": "python",
      "name": "python3"
    },
    "language_info": {
      "codemirror_mode": {
        "name": "ipython",
        "version": 3
      },
      "file_extension": ".py",
      "mimetype": "text/x-python",
      "name": "python",
      "nbconvert_exporter": "python",
      "pygments_lexer": "ipython3",
      "version": "3.7.3"
    },
    "colab": {
      "name": "muskan-cancer-detection-using-cnn.ipynb",
      "provenance": [],
      "collapsed_sections": []
    },
    "accelerator": "GPU"
  },
  "cells": [
    {
      "cell_type": "code",
      "metadata": {
        "_cell_guid": "b1076dfc-b9ad-4769-8c92-a6c4dae69d19",
        "_uuid": "8f2839f25d086af736a60e9eeb907d3b93b6e0e5",
        "id": "VKOxZeo2vpM1"
      },
      "source": [
        "# Find the direction of dataset\n",
        "import numpy as np\n",
        "import pandas as pd\n",
        "import os\n"
      ],
      "execution_count": 2,
      "outputs": []
    },
    {
      "cell_type": "code",
      "metadata": {
        "colab": {
          "base_uri": "https://localhost:8080/"
        },
        "id": "UzHWc9KyvpND",
        "outputId": "5507a128-b57f-4cb8-a32e-46f0dcf3102e"
      },
      "source": [
        "import cv2\n",
        "import matplotlib.pyplot as plt\n",
        "from keras.models import Sequential\n",
        "from keras.layers import Dense, Dropout, Activation, Conv2D, MaxPool2D, Flatten\n",
        "from keras import optimizers\n",
        "from keras import losses\n",
        "from sklearn import metrics\n",
        "from sklearn.model_selection import train_test_split\n",
        "from tensorflow.keras.layers import AveragePooling2D\n",
        "from tensorflow.keras.callbacks import EarlyStopping, ModelCheckpoint\n",
        "import random # for visualization\n",
        "print('Libraries Imported')"
      ],
      "execution_count": 3,
      "outputs": [
        {
          "output_type": "stream",
          "text": [
            "Libraries Imported\n"
          ],
          "name": "stdout"
        }
      ]
    },
    {
      "cell_type": "code",
      "metadata": {
        "id": "GgUOsfL4v7Am"
      },
      "source": [
        "#!unzip archive.zip"
      ],
      "execution_count": null,
      "outputs": []
    },
    {
      "cell_type": "code",
      "metadata": {
        "colab": {
          "base_uri": "https://localhost:8080/"
        },
        "id": "zLC6w_13wra4",
        "outputId": "dfd08ab7-2c87-4147-cc34-86bcff030473"
      },
      "source": [
        "#import pictures from drive \n",
        "from google.colab import drive\n",
        "drive.mount('/content/drive')"
      ],
      "execution_count": 4,
      "outputs": [
        {
          "output_type": "stream",
          "text": [
            "Mounted at /content/drive\n"
          ],
          "name": "stdout"
        }
      ]
    },
    {
      "cell_type": "code",
      "metadata": {
        "id": "EmUPjWCmwsSr"
      },
      "source": [
        "!unzip -uq \"/content/drive/My Drive/MIAS/archive.zip\" -d \"/content/drive/My Drive/MIAS\""
      ],
      "execution_count": 5,
      "outputs": []
    },
    {
      "cell_type": "code",
      "metadata": {
        "id": "VN_-lejyvpNG"
      },
      "source": [
        "path = '/content/drive/My Drive/MIAS/all-mias/'"
      ],
      "execution_count": 6,
      "outputs": []
    },
    {
      "cell_type": "code",
      "metadata": {
        "colab": {
          "base_uri": "https://localhost:8080/"
        },
        "id": "8xnwocimvpNH",
        "outputId": "3671020c-31fd-488e-9d4f-943738df8768"
      },
      "source": [
        "print(\"reading dataframe\")\n",
        "info=pd.read_csv(\"/content/drive/My Drive/MIAS/Info.txt\",sep=\" \")\n",
        "info=info.drop('Unnamed: 7',axis=1)"
      ],
      "execution_count": 7,
      "outputs": [
        {
          "output_type": "stream",
          "text": [
            "reading dataframe\n"
          ],
          "name": "stdout"
        }
      ]
    },
    {
      "cell_type": "code",
      "metadata": {
        "colab": {
          "base_uri": "https://localhost:8080/",
          "height": 402
        },
        "id": "I9QH5n4jvpNI",
        "outputId": "dddf60d2-78e7-4a68-884b-7400e554041f"
      },
      "source": [
        "info"
      ],
      "execution_count": 8,
      "outputs": [
        {
          "output_type": "execute_result",
          "data": {
            "text/html": [
              "<div>\n",
              "<style scoped>\n",
              "    .dataframe tbody tr th:only-of-type {\n",
              "        vertical-align: middle;\n",
              "    }\n",
              "\n",
              "    .dataframe tbody tr th {\n",
              "        vertical-align: top;\n",
              "    }\n",
              "\n",
              "    .dataframe thead th {\n",
              "        text-align: right;\n",
              "    }\n",
              "</style>\n",
              "<table border=\"1\" class=\"dataframe\">\n",
              "  <thead>\n",
              "    <tr style=\"text-align: right;\">\n",
              "      <th></th>\n",
              "      <th>REFNUM</th>\n",
              "      <th>BG</th>\n",
              "      <th>CLASS</th>\n",
              "      <th>SEVERITY</th>\n",
              "      <th>X</th>\n",
              "      <th>Y</th>\n",
              "      <th>RADIUS</th>\n",
              "    </tr>\n",
              "  </thead>\n",
              "  <tbody>\n",
              "    <tr>\n",
              "      <th>0</th>\n",
              "      <td>mdb001</td>\n",
              "      <td>G</td>\n",
              "      <td>CIRC</td>\n",
              "      <td>B</td>\n",
              "      <td>535.0</td>\n",
              "      <td>425.0</td>\n",
              "      <td>197.0</td>\n",
              "    </tr>\n",
              "    <tr>\n",
              "      <th>1</th>\n",
              "      <td>mdb002</td>\n",
              "      <td>G</td>\n",
              "      <td>CIRC</td>\n",
              "      <td>B</td>\n",
              "      <td>522.0</td>\n",
              "      <td>280.0</td>\n",
              "      <td>69.0</td>\n",
              "    </tr>\n",
              "    <tr>\n",
              "      <th>2</th>\n",
              "      <td>mdb003</td>\n",
              "      <td>D</td>\n",
              "      <td>NORM</td>\n",
              "      <td>NaN</td>\n",
              "      <td>NaN</td>\n",
              "      <td>NaN</td>\n",
              "      <td>NaN</td>\n",
              "    </tr>\n",
              "    <tr>\n",
              "      <th>3</th>\n",
              "      <td>mdb004</td>\n",
              "      <td>D</td>\n",
              "      <td>NORM</td>\n",
              "      <td>NaN</td>\n",
              "      <td>NaN</td>\n",
              "      <td>NaN</td>\n",
              "      <td>NaN</td>\n",
              "    </tr>\n",
              "    <tr>\n",
              "      <th>4</th>\n",
              "      <td>mdb005</td>\n",
              "      <td>F</td>\n",
              "      <td>CIRC</td>\n",
              "      <td>B</td>\n",
              "      <td>477.0</td>\n",
              "      <td>133.0</td>\n",
              "      <td>30.0</td>\n",
              "    </tr>\n",
              "    <tr>\n",
              "      <th>...</th>\n",
              "      <td>...</td>\n",
              "      <td>...</td>\n",
              "      <td>...</td>\n",
              "      <td>...</td>\n",
              "      <td>...</td>\n",
              "      <td>...</td>\n",
              "      <td>...</td>\n",
              "    </tr>\n",
              "    <tr>\n",
              "      <th>325</th>\n",
              "      <td>mdb318</td>\n",
              "      <td>D</td>\n",
              "      <td>NORM</td>\n",
              "      <td>NaN</td>\n",
              "      <td>NaN</td>\n",
              "      <td>NaN</td>\n",
              "      <td>NaN</td>\n",
              "    </tr>\n",
              "    <tr>\n",
              "      <th>326</th>\n",
              "      <td>mdb319</td>\n",
              "      <td>D</td>\n",
              "      <td>NORM</td>\n",
              "      <td>NaN</td>\n",
              "      <td>NaN</td>\n",
              "      <td>NaN</td>\n",
              "      <td>NaN</td>\n",
              "    </tr>\n",
              "    <tr>\n",
              "      <th>327</th>\n",
              "      <td>mdb320</td>\n",
              "      <td>D</td>\n",
              "      <td>NORM</td>\n",
              "      <td>NaN</td>\n",
              "      <td>NaN</td>\n",
              "      <td>NaN</td>\n",
              "      <td>NaN</td>\n",
              "    </tr>\n",
              "    <tr>\n",
              "      <th>328</th>\n",
              "      <td>mdb321</td>\n",
              "      <td>D</td>\n",
              "      <td>NORM</td>\n",
              "      <td>NaN</td>\n",
              "      <td>NaN</td>\n",
              "      <td>NaN</td>\n",
              "      <td>NaN</td>\n",
              "    </tr>\n",
              "    <tr>\n",
              "      <th>329</th>\n",
              "      <td>mdb322</td>\n",
              "      <td>D</td>\n",
              "      <td>NORM</td>\n",
              "      <td>NaN</td>\n",
              "      <td>NaN</td>\n",
              "      <td>NaN</td>\n",
              "      <td>NaN</td>\n",
              "    </tr>\n",
              "  </tbody>\n",
              "</table>\n",
              "<p>330 rows × 7 columns</p>\n",
              "</div>"
            ],
            "text/plain": [
              "     REFNUM BG CLASS SEVERITY      X      Y  RADIUS\n",
              "0    mdb001  G  CIRC        B  535.0  425.0   197.0\n",
              "1    mdb002  G  CIRC        B  522.0  280.0    69.0\n",
              "2    mdb003  D  NORM      NaN    NaN    NaN     NaN\n",
              "3    mdb004  D  NORM      NaN    NaN    NaN     NaN\n",
              "4    mdb005  F  CIRC        B  477.0  133.0    30.0\n",
              "..      ... ..   ...      ...    ...    ...     ...\n",
              "325  mdb318  D  NORM      NaN    NaN    NaN     NaN\n",
              "326  mdb319  D  NORM      NaN    NaN    NaN     NaN\n",
              "327  mdb320  D  NORM      NaN    NaN    NaN     NaN\n",
              "328  mdb321  D  NORM      NaN    NaN    NaN     NaN\n",
              "329  mdb322  D  NORM      NaN    NaN    NaN     NaN\n",
              "\n",
              "[330 rows x 7 columns]"
            ]
          },
          "metadata": {
            "tags": []
          },
          "execution_count": 8
        }
      ]
    },
    {
      "cell_type": "code",
      "metadata": {
        "colab": {
          "base_uri": "https://localhost:8080/",
          "height": 402
        },
        "id": "BKtCBVoXvpNJ",
        "outputId": "57e30ebc-f78d-49a3-88d8-ca2a83e0e58d"
      },
      "source": [
        "info.dropna(subset = [\"SEVERITY\"], inplace=True)\n",
        "\n",
        "info.reset_index(inplace = True)\n",
        "info"
      ],
      "execution_count": 9,
      "outputs": [
        {
          "output_type": "execute_result",
          "data": {
            "text/html": [
              "<div>\n",
              "<style scoped>\n",
              "    .dataframe tbody tr th:only-of-type {\n",
              "        vertical-align: middle;\n",
              "    }\n",
              "\n",
              "    .dataframe tbody tr th {\n",
              "        vertical-align: top;\n",
              "    }\n",
              "\n",
              "    .dataframe thead th {\n",
              "        text-align: right;\n",
              "    }\n",
              "</style>\n",
              "<table border=\"1\" class=\"dataframe\">\n",
              "  <thead>\n",
              "    <tr style=\"text-align: right;\">\n",
              "      <th></th>\n",
              "      <th>index</th>\n",
              "      <th>REFNUM</th>\n",
              "      <th>BG</th>\n",
              "      <th>CLASS</th>\n",
              "      <th>SEVERITY</th>\n",
              "      <th>X</th>\n",
              "      <th>Y</th>\n",
              "      <th>RADIUS</th>\n",
              "    </tr>\n",
              "  </thead>\n",
              "  <tbody>\n",
              "    <tr>\n",
              "      <th>0</th>\n",
              "      <td>0</td>\n",
              "      <td>mdb001</td>\n",
              "      <td>G</td>\n",
              "      <td>CIRC</td>\n",
              "      <td>B</td>\n",
              "      <td>535.0</td>\n",
              "      <td>425.0</td>\n",
              "      <td>197.0</td>\n",
              "    </tr>\n",
              "    <tr>\n",
              "      <th>1</th>\n",
              "      <td>1</td>\n",
              "      <td>mdb002</td>\n",
              "      <td>G</td>\n",
              "      <td>CIRC</td>\n",
              "      <td>B</td>\n",
              "      <td>522.0</td>\n",
              "      <td>280.0</td>\n",
              "      <td>69.0</td>\n",
              "    </tr>\n",
              "    <tr>\n",
              "      <th>2</th>\n",
              "      <td>4</td>\n",
              "      <td>mdb005</td>\n",
              "      <td>F</td>\n",
              "      <td>CIRC</td>\n",
              "      <td>B</td>\n",
              "      <td>477.0</td>\n",
              "      <td>133.0</td>\n",
              "      <td>30.0</td>\n",
              "    </tr>\n",
              "    <tr>\n",
              "      <th>3</th>\n",
              "      <td>5</td>\n",
              "      <td>mdb005</td>\n",
              "      <td>F</td>\n",
              "      <td>CIRC</td>\n",
              "      <td>B</td>\n",
              "      <td>500.0</td>\n",
              "      <td>168.0</td>\n",
              "      <td>26.0</td>\n",
              "    </tr>\n",
              "    <tr>\n",
              "      <th>4</th>\n",
              "      <td>10</td>\n",
              "      <td>mdb010</td>\n",
              "      <td>F</td>\n",
              "      <td>CIRC</td>\n",
              "      <td>B</td>\n",
              "      <td>525.0</td>\n",
              "      <td>425.0</td>\n",
              "      <td>33.0</td>\n",
              "    </tr>\n",
              "    <tr>\n",
              "      <th>...</th>\n",
              "      <td>...</td>\n",
              "      <td>...</td>\n",
              "      <td>...</td>\n",
              "      <td>...</td>\n",
              "      <td>...</td>\n",
              "      <td>...</td>\n",
              "      <td>...</td>\n",
              "      <td>...</td>\n",
              "    </tr>\n",
              "    <tr>\n",
              "      <th>118</th>\n",
              "      <td>281</td>\n",
              "      <td>mdb274</td>\n",
              "      <td>F</td>\n",
              "      <td>MISC</td>\n",
              "      <td>M</td>\n",
              "      <td>127.0</td>\n",
              "      <td>505.0</td>\n",
              "      <td>123.0</td>\n",
              "    </tr>\n",
              "    <tr>\n",
              "      <th>119</th>\n",
              "      <td>297</td>\n",
              "      <td>mdb290</td>\n",
              "      <td>D</td>\n",
              "      <td>CIRC</td>\n",
              "      <td>B</td>\n",
              "      <td>337.0</td>\n",
              "      <td>353.0</td>\n",
              "      <td>45.0</td>\n",
              "    </tr>\n",
              "    <tr>\n",
              "      <th>120</th>\n",
              "      <td>319</td>\n",
              "      <td>mdb312</td>\n",
              "      <td>F</td>\n",
              "      <td>MISC</td>\n",
              "      <td>B</td>\n",
              "      <td>240.0</td>\n",
              "      <td>263.0</td>\n",
              "      <td>20.0</td>\n",
              "    </tr>\n",
              "    <tr>\n",
              "      <th>121</th>\n",
              "      <td>321</td>\n",
              "      <td>mdb314</td>\n",
              "      <td>F</td>\n",
              "      <td>MISC</td>\n",
              "      <td>B</td>\n",
              "      <td>518.0</td>\n",
              "      <td>191.0</td>\n",
              "      <td>39.0</td>\n",
              "    </tr>\n",
              "    <tr>\n",
              "      <th>122</th>\n",
              "      <td>322</td>\n",
              "      <td>mdb315</td>\n",
              "      <td>D</td>\n",
              "      <td>CIRC</td>\n",
              "      <td>B</td>\n",
              "      <td>516.0</td>\n",
              "      <td>447.0</td>\n",
              "      <td>93.0</td>\n",
              "    </tr>\n",
              "  </tbody>\n",
              "</table>\n",
              "<p>123 rows × 8 columns</p>\n",
              "</div>"
            ],
            "text/plain": [
              "     index  REFNUM BG CLASS SEVERITY      X      Y  RADIUS\n",
              "0        0  mdb001  G  CIRC        B  535.0  425.0   197.0\n",
              "1        1  mdb002  G  CIRC        B  522.0  280.0    69.0\n",
              "2        4  mdb005  F  CIRC        B  477.0  133.0    30.0\n",
              "3        5  mdb005  F  CIRC        B  500.0  168.0    26.0\n",
              "4       10  mdb010  F  CIRC        B  525.0  425.0    33.0\n",
              "..     ...     ... ..   ...      ...    ...    ...     ...\n",
              "118    281  mdb274  F  MISC        M  127.0  505.0   123.0\n",
              "119    297  mdb290  D  CIRC        B  337.0  353.0    45.0\n",
              "120    319  mdb312  F  MISC        B  240.0  263.0    20.0\n",
              "121    321  mdb314  F  MISC        B  518.0  191.0    39.0\n",
              "122    322  mdb315  D  CIRC        B  516.0  447.0    93.0\n",
              "\n",
              "[123 rows x 8 columns]"
            ]
          },
          "metadata": {
            "tags": []
          },
          "execution_count": 9
        }
      ]
    },
    {
      "cell_type": "code",
      "metadata": {
        "colab": {
          "base_uri": "https://localhost:8080/",
          "height": 402
        },
        "id": "P9FevP9CvpNJ",
        "outputId": "2a302c09-bf75-4d40-a176-a8af35ab6aaa"
      },
      "source": [
        "info = info.drop([3], axis=0)\n",
        "info.reset_index(inplace = True)\n",
        "info"
      ],
      "execution_count": 10,
      "outputs": [
        {
          "output_type": "execute_result",
          "data": {
            "text/html": [
              "<div>\n",
              "<style scoped>\n",
              "    .dataframe tbody tr th:only-of-type {\n",
              "        vertical-align: middle;\n",
              "    }\n",
              "\n",
              "    .dataframe tbody tr th {\n",
              "        vertical-align: top;\n",
              "    }\n",
              "\n",
              "    .dataframe thead th {\n",
              "        text-align: right;\n",
              "    }\n",
              "</style>\n",
              "<table border=\"1\" class=\"dataframe\">\n",
              "  <thead>\n",
              "    <tr style=\"text-align: right;\">\n",
              "      <th></th>\n",
              "      <th>level_0</th>\n",
              "      <th>index</th>\n",
              "      <th>REFNUM</th>\n",
              "      <th>BG</th>\n",
              "      <th>CLASS</th>\n",
              "      <th>SEVERITY</th>\n",
              "      <th>X</th>\n",
              "      <th>Y</th>\n",
              "      <th>RADIUS</th>\n",
              "    </tr>\n",
              "  </thead>\n",
              "  <tbody>\n",
              "    <tr>\n",
              "      <th>0</th>\n",
              "      <td>0</td>\n",
              "      <td>0</td>\n",
              "      <td>mdb001</td>\n",
              "      <td>G</td>\n",
              "      <td>CIRC</td>\n",
              "      <td>B</td>\n",
              "      <td>535.0</td>\n",
              "      <td>425.0</td>\n",
              "      <td>197.0</td>\n",
              "    </tr>\n",
              "    <tr>\n",
              "      <th>1</th>\n",
              "      <td>1</td>\n",
              "      <td>1</td>\n",
              "      <td>mdb002</td>\n",
              "      <td>G</td>\n",
              "      <td>CIRC</td>\n",
              "      <td>B</td>\n",
              "      <td>522.0</td>\n",
              "      <td>280.0</td>\n",
              "      <td>69.0</td>\n",
              "    </tr>\n",
              "    <tr>\n",
              "      <th>2</th>\n",
              "      <td>2</td>\n",
              "      <td>4</td>\n",
              "      <td>mdb005</td>\n",
              "      <td>F</td>\n",
              "      <td>CIRC</td>\n",
              "      <td>B</td>\n",
              "      <td>477.0</td>\n",
              "      <td>133.0</td>\n",
              "      <td>30.0</td>\n",
              "    </tr>\n",
              "    <tr>\n",
              "      <th>3</th>\n",
              "      <td>4</td>\n",
              "      <td>10</td>\n",
              "      <td>mdb010</td>\n",
              "      <td>F</td>\n",
              "      <td>CIRC</td>\n",
              "      <td>B</td>\n",
              "      <td>525.0</td>\n",
              "      <td>425.0</td>\n",
              "      <td>33.0</td>\n",
              "    </tr>\n",
              "    <tr>\n",
              "      <th>4</th>\n",
              "      <td>5</td>\n",
              "      <td>12</td>\n",
              "      <td>mdb012</td>\n",
              "      <td>F</td>\n",
              "      <td>CIRC</td>\n",
              "      <td>B</td>\n",
              "      <td>471.0</td>\n",
              "      <td>458.0</td>\n",
              "      <td>40.0</td>\n",
              "    </tr>\n",
              "    <tr>\n",
              "      <th>...</th>\n",
              "      <td>...</td>\n",
              "      <td>...</td>\n",
              "      <td>...</td>\n",
              "      <td>...</td>\n",
              "      <td>...</td>\n",
              "      <td>...</td>\n",
              "      <td>...</td>\n",
              "      <td>...</td>\n",
              "      <td>...</td>\n",
              "    </tr>\n",
              "    <tr>\n",
              "      <th>117</th>\n",
              "      <td>118</td>\n",
              "      <td>281</td>\n",
              "      <td>mdb274</td>\n",
              "      <td>F</td>\n",
              "      <td>MISC</td>\n",
              "      <td>M</td>\n",
              "      <td>127.0</td>\n",
              "      <td>505.0</td>\n",
              "      <td>123.0</td>\n",
              "    </tr>\n",
              "    <tr>\n",
              "      <th>118</th>\n",
              "      <td>119</td>\n",
              "      <td>297</td>\n",
              "      <td>mdb290</td>\n",
              "      <td>D</td>\n",
              "      <td>CIRC</td>\n",
              "      <td>B</td>\n",
              "      <td>337.0</td>\n",
              "      <td>353.0</td>\n",
              "      <td>45.0</td>\n",
              "    </tr>\n",
              "    <tr>\n",
              "      <th>119</th>\n",
              "      <td>120</td>\n",
              "      <td>319</td>\n",
              "      <td>mdb312</td>\n",
              "      <td>F</td>\n",
              "      <td>MISC</td>\n",
              "      <td>B</td>\n",
              "      <td>240.0</td>\n",
              "      <td>263.0</td>\n",
              "      <td>20.0</td>\n",
              "    </tr>\n",
              "    <tr>\n",
              "      <th>120</th>\n",
              "      <td>121</td>\n",
              "      <td>321</td>\n",
              "      <td>mdb314</td>\n",
              "      <td>F</td>\n",
              "      <td>MISC</td>\n",
              "      <td>B</td>\n",
              "      <td>518.0</td>\n",
              "      <td>191.0</td>\n",
              "      <td>39.0</td>\n",
              "    </tr>\n",
              "    <tr>\n",
              "      <th>121</th>\n",
              "      <td>122</td>\n",
              "      <td>322</td>\n",
              "      <td>mdb315</td>\n",
              "      <td>D</td>\n",
              "      <td>CIRC</td>\n",
              "      <td>B</td>\n",
              "      <td>516.0</td>\n",
              "      <td>447.0</td>\n",
              "      <td>93.0</td>\n",
              "    </tr>\n",
              "  </tbody>\n",
              "</table>\n",
              "<p>122 rows × 9 columns</p>\n",
              "</div>"
            ],
            "text/plain": [
              "     level_0  index  REFNUM BG CLASS SEVERITY      X      Y  RADIUS\n",
              "0          0      0  mdb001  G  CIRC        B  535.0  425.0   197.0\n",
              "1          1      1  mdb002  G  CIRC        B  522.0  280.0    69.0\n",
              "2          2      4  mdb005  F  CIRC        B  477.0  133.0    30.0\n",
              "3          4     10  mdb010  F  CIRC        B  525.0  425.0    33.0\n",
              "4          5     12  mdb012  F  CIRC        B  471.0  458.0    40.0\n",
              "..       ...    ...     ... ..   ...      ...    ...    ...     ...\n",
              "117      118    281  mdb274  F  MISC        M  127.0  505.0   123.0\n",
              "118      119    297  mdb290  D  CIRC        B  337.0  353.0    45.0\n",
              "119      120    319  mdb312  F  MISC        B  240.0  263.0    20.0\n",
              "120      121    321  mdb314  F  MISC        B  518.0  191.0    39.0\n",
              "121      122    322  mdb315  D  CIRC        B  516.0  447.0    93.0\n",
              "\n",
              "[122 rows x 9 columns]"
            ]
          },
          "metadata": {
            "tags": []
          },
          "execution_count": 10
        }
      ]
    },
    {
      "cell_type": "code",
      "metadata": {
        "id": "UFddRVQevpNK"
      },
      "source": [
        "# taking the images filenames in to dictionary\n",
        "ids = {}\n",
        "for i in range(len(info)):\n",
        "    ids[i] = info.REFNUM[i]\n",
        "#ids"
      ],
      "execution_count": 11,
      "outputs": []
    },
    {
      "cell_type": "code",
      "metadata": {
        "id": "Y9BB-71CvpNL"
      },
      "source": [
        "# Turning our outputs B-M to 1-0\n",
        "label = []\n",
        "for i in range(len(info)):\n",
        "    if info.SEVERITY[i] == 'B':\n",
        "        label.append(1)\n",
        "    else:\n",
        "        label.append(0)"
      ],
      "execution_count": 12,
      "outputs": []
    },
    {
      "cell_type": "code",
      "metadata": {
        "id": "b-kqbUhTvpNM"
      },
      "source": [
        "label = np.array(label)"
      ],
      "execution_count": 13,
      "outputs": []
    },
    {
      "cell_type": "code",
      "metadata": {
        "colab": {
          "base_uri": "https://localhost:8080/"
        },
        "id": "qL7PRRi_vpNM",
        "outputId": "bf474088-863c-441c-89b6-1ff04ca328a2"
      },
      "source": [
        "label.shape"
      ],
      "execution_count": 14,
      "outputs": [
        {
          "output_type": "execute_result",
          "data": {
            "text/plain": [
              "(122,)"
            ]
          },
          "metadata": {
            "tags": []
          },
          "execution_count": 14
        }
      ]
    },
    {
      "cell_type": "code",
      "metadata": {
        "id": "sggdrEU6vpNN"
      },
      "source": [
        "# define the every images filepaths in to list\n",
        "img_name = []\n",
        "\n",
        "for i in range(len(label)):\n",
        "        img_name.append(path + info.REFNUM[i]+ '.pgm')"
      ],
      "execution_count": 15,
      "outputs": []
    },
    {
      "cell_type": "code",
      "metadata": {
        "colab": {
          "base_uri": "https://localhost:8080/"
        },
        "id": "OuAEQZ30vpNO",
        "outputId": "a6afdce2-cf7c-484f-ff88-1358330f7038"
      },
      "source": [
        "img_name = np.array(img_name)\n",
        "img_name"
      ],
      "execution_count": 16,
      "outputs": [
        {
          "output_type": "execute_result",
          "data": {
            "text/plain": [
              "array(['/content/drive/My Drive/MIAS/all-mias/mdb001.pgm',\n",
              "       '/content/drive/My Drive/MIAS/all-mias/mdb002.pgm',\n",
              "       '/content/drive/My Drive/MIAS/all-mias/mdb005.pgm',\n",
              "       '/content/drive/My Drive/MIAS/all-mias/mdb010.pgm',\n",
              "       '/content/drive/My Drive/MIAS/all-mias/mdb012.pgm',\n",
              "       '/content/drive/My Drive/MIAS/all-mias/mdb013.pgm',\n",
              "       '/content/drive/My Drive/MIAS/all-mias/mdb015.pgm',\n",
              "       '/content/drive/My Drive/MIAS/all-mias/mdb017.pgm',\n",
              "       '/content/drive/My Drive/MIAS/all-mias/mdb019.pgm',\n",
              "       '/content/drive/My Drive/MIAS/all-mias/mdb021.pgm',\n",
              "       '/content/drive/My Drive/MIAS/all-mias/mdb023.pgm',\n",
              "       '/content/drive/My Drive/MIAS/all-mias/mdb025.pgm',\n",
              "       '/content/drive/My Drive/MIAS/all-mias/mdb028.pgm',\n",
              "       '/content/drive/My Drive/MIAS/all-mias/mdb030.pgm',\n",
              "       '/content/drive/My Drive/MIAS/all-mias/mdb032.pgm',\n",
              "       '/content/drive/My Drive/MIAS/all-mias/mdb058.pgm',\n",
              "       '/content/drive/My Drive/MIAS/all-mias/mdb059.pgm',\n",
              "       '/content/drive/My Drive/MIAS/all-mias/mdb063.pgm',\n",
              "       '/content/drive/My Drive/MIAS/all-mias/mdb069.pgm',\n",
              "       '/content/drive/My Drive/MIAS/all-mias/mdb072.pgm',\n",
              "       '/content/drive/My Drive/MIAS/all-mias/mdb075.pgm',\n",
              "       '/content/drive/My Drive/MIAS/all-mias/mdb080.pgm',\n",
              "       '/content/drive/My Drive/MIAS/all-mias/mdb081.pgm',\n",
              "       '/content/drive/My Drive/MIAS/all-mias/mdb083.pgm',\n",
              "       '/content/drive/My Drive/MIAS/all-mias/mdb090.pgm',\n",
              "       '/content/drive/My Drive/MIAS/all-mias/mdb091.pgm',\n",
              "       '/content/drive/My Drive/MIAS/all-mias/mdb092.pgm',\n",
              "       '/content/drive/My Drive/MIAS/all-mias/mdb095.pgm',\n",
              "       '/content/drive/My Drive/MIAS/all-mias/mdb097.pgm',\n",
              "       '/content/drive/My Drive/MIAS/all-mias/mdb099.pgm',\n",
              "       '/content/drive/My Drive/MIAS/all-mias/mdb102.pgm',\n",
              "       '/content/drive/My Drive/MIAS/all-mias/mdb104.pgm',\n",
              "       '/content/drive/My Drive/MIAS/all-mias/mdb105.pgm',\n",
              "       '/content/drive/My Drive/MIAS/all-mias/mdb107.pgm',\n",
              "       '/content/drive/My Drive/MIAS/all-mias/mdb110.pgm',\n",
              "       '/content/drive/My Drive/MIAS/all-mias/mdb111.pgm',\n",
              "       '/content/drive/My Drive/MIAS/all-mias/mdb115.pgm',\n",
              "       '/content/drive/My Drive/MIAS/all-mias/mdb117.pgm',\n",
              "       '/content/drive/My Drive/MIAS/all-mias/mdb120.pgm',\n",
              "       '/content/drive/My Drive/MIAS/all-mias/mdb121.pgm',\n",
              "       '/content/drive/My Drive/MIAS/all-mias/mdb124.pgm',\n",
              "       '/content/drive/My Drive/MIAS/all-mias/mdb125.pgm',\n",
              "       '/content/drive/My Drive/MIAS/all-mias/mdb126.pgm',\n",
              "       '/content/drive/My Drive/MIAS/all-mias/mdb127.pgm',\n",
              "       '/content/drive/My Drive/MIAS/all-mias/mdb130.pgm',\n",
              "       '/content/drive/My Drive/MIAS/all-mias/mdb132.pgm',\n",
              "       '/content/drive/My Drive/MIAS/all-mias/mdb132.pgm',\n",
              "       '/content/drive/My Drive/MIAS/all-mias/mdb134.pgm',\n",
              "       '/content/drive/My Drive/MIAS/all-mias/mdb141.pgm',\n",
              "       '/content/drive/My Drive/MIAS/all-mias/mdb142.pgm',\n",
              "       '/content/drive/My Drive/MIAS/all-mias/mdb144.pgm',\n",
              "       '/content/drive/My Drive/MIAS/all-mias/mdb144.pgm',\n",
              "       '/content/drive/My Drive/MIAS/all-mias/mdb145.pgm',\n",
              "       '/content/drive/My Drive/MIAS/all-mias/mdb148.pgm',\n",
              "       '/content/drive/My Drive/MIAS/all-mias/mdb150.pgm',\n",
              "       '/content/drive/My Drive/MIAS/all-mias/mdb152.pgm',\n",
              "       '/content/drive/My Drive/MIAS/all-mias/mdb155.pgm',\n",
              "       '/content/drive/My Drive/MIAS/all-mias/mdb158.pgm',\n",
              "       '/content/drive/My Drive/MIAS/all-mias/mdb160.pgm',\n",
              "       '/content/drive/My Drive/MIAS/all-mias/mdb163.pgm',\n",
              "       '/content/drive/My Drive/MIAS/all-mias/mdb165.pgm',\n",
              "       '/content/drive/My Drive/MIAS/all-mias/mdb167.pgm',\n",
              "       '/content/drive/My Drive/MIAS/all-mias/mdb170.pgm',\n",
              "       '/content/drive/My Drive/MIAS/all-mias/mdb171.pgm',\n",
              "       '/content/drive/My Drive/MIAS/all-mias/mdb175.pgm',\n",
              "       '/content/drive/My Drive/MIAS/all-mias/mdb178.pgm',\n",
              "       '/content/drive/My Drive/MIAS/all-mias/mdb179.pgm',\n",
              "       '/content/drive/My Drive/MIAS/all-mias/mdb181.pgm',\n",
              "       '/content/drive/My Drive/MIAS/all-mias/mdb184.pgm',\n",
              "       '/content/drive/My Drive/MIAS/all-mias/mdb186.pgm',\n",
              "       '/content/drive/My Drive/MIAS/all-mias/mdb188.pgm',\n",
              "       '/content/drive/My Drive/MIAS/all-mias/mdb190.pgm',\n",
              "       '/content/drive/My Drive/MIAS/all-mias/mdb191.pgm',\n",
              "       '/content/drive/My Drive/MIAS/all-mias/mdb193.pgm',\n",
              "       '/content/drive/My Drive/MIAS/all-mias/mdb195.pgm',\n",
              "       '/content/drive/My Drive/MIAS/all-mias/mdb198.pgm',\n",
              "       '/content/drive/My Drive/MIAS/all-mias/mdb199.pgm',\n",
              "       '/content/drive/My Drive/MIAS/all-mias/mdb202.pgm',\n",
              "       '/content/drive/My Drive/MIAS/all-mias/mdb204.pgm',\n",
              "       '/content/drive/My Drive/MIAS/all-mias/mdb206.pgm',\n",
              "       '/content/drive/My Drive/MIAS/all-mias/mdb207.pgm',\n",
              "       '/content/drive/My Drive/MIAS/all-mias/mdb209.pgm',\n",
              "       '/content/drive/My Drive/MIAS/all-mias/mdb211.pgm',\n",
              "       '/content/drive/My Drive/MIAS/all-mias/mdb212.pgm',\n",
              "       '/content/drive/My Drive/MIAS/all-mias/mdb213.pgm',\n",
              "       '/content/drive/My Drive/MIAS/all-mias/mdb214.pgm',\n",
              "       '/content/drive/My Drive/MIAS/all-mias/mdb216.pgm',\n",
              "       '/content/drive/My Drive/MIAS/all-mias/mdb218.pgm',\n",
              "       '/content/drive/My Drive/MIAS/all-mias/mdb219.pgm',\n",
              "       '/content/drive/My Drive/MIAS/all-mias/mdb222.pgm',\n",
              "       '/content/drive/My Drive/MIAS/all-mias/mdb223.pgm',\n",
              "       '/content/drive/My Drive/MIAS/all-mias/mdb223.pgm',\n",
              "       '/content/drive/My Drive/MIAS/all-mias/mdb226.pgm',\n",
              "       '/content/drive/My Drive/MIAS/all-mias/mdb226.pgm',\n",
              "       '/content/drive/My Drive/MIAS/all-mias/mdb226.pgm',\n",
              "       '/content/drive/My Drive/MIAS/all-mias/mdb227.pgm',\n",
              "       '/content/drive/My Drive/MIAS/all-mias/mdb231.pgm',\n",
              "       '/content/drive/My Drive/MIAS/all-mias/mdb233.pgm',\n",
              "       '/content/drive/My Drive/MIAS/all-mias/mdb236.pgm',\n",
              "       '/content/drive/My Drive/MIAS/all-mias/mdb238.pgm',\n",
              "       '/content/drive/My Drive/MIAS/all-mias/mdb239.pgm',\n",
              "       '/content/drive/My Drive/MIAS/all-mias/mdb239.pgm',\n",
              "       '/content/drive/My Drive/MIAS/all-mias/mdb240.pgm',\n",
              "       '/content/drive/My Drive/MIAS/all-mias/mdb241.pgm',\n",
              "       '/content/drive/My Drive/MIAS/all-mias/mdb244.pgm',\n",
              "       '/content/drive/My Drive/MIAS/all-mias/mdb245.pgm',\n",
              "       '/content/drive/My Drive/MIAS/all-mias/mdb248.pgm',\n",
              "       '/content/drive/My Drive/MIAS/all-mias/mdb249.pgm',\n",
              "       '/content/drive/My Drive/MIAS/all-mias/mdb249.pgm',\n",
              "       '/content/drive/My Drive/MIAS/all-mias/mdb252.pgm',\n",
              "       '/content/drive/My Drive/MIAS/all-mias/mdb253.pgm',\n",
              "       '/content/drive/My Drive/MIAS/all-mias/mdb256.pgm',\n",
              "       '/content/drive/My Drive/MIAS/all-mias/mdb264.pgm',\n",
              "       '/content/drive/My Drive/MIAS/all-mias/mdb265.pgm',\n",
              "       '/content/drive/My Drive/MIAS/all-mias/mdb267.pgm',\n",
              "       '/content/drive/My Drive/MIAS/all-mias/mdb270.pgm',\n",
              "       '/content/drive/My Drive/MIAS/all-mias/mdb271.pgm',\n",
              "       '/content/drive/My Drive/MIAS/all-mias/mdb274.pgm',\n",
              "       '/content/drive/My Drive/MIAS/all-mias/mdb290.pgm',\n",
              "       '/content/drive/My Drive/MIAS/all-mias/mdb312.pgm',\n",
              "       '/content/drive/My Drive/MIAS/all-mias/mdb314.pgm',\n",
              "       '/content/drive/My Drive/MIAS/all-mias/mdb315.pgm'], dtype='<U48')"
            ]
          },
          "metadata": {
            "tags": []
          },
          "execution_count": 16
        }
      ]
    },
    {
      "cell_type": "code",
      "metadata": {
        "colab": {
          "base_uri": "https://localhost:8080/"
        },
        "id": "HOu7lNssvpNO",
        "outputId": "57169544-b506-42a5-847b-5627f6326e13"
      },
      "source": [
        "#print(img_name)\n",
        "print(f'image addres amount {img_name.shape}')"
      ],
      "execution_count": 17,
      "outputs": [
        {
          "output_type": "stream",
          "text": [
            "image addres amount (122,)\n"
          ],
          "name": "stdout"
        }
      ]
    },
    {
      "cell_type": "code",
      "metadata": {
        "colab": {
          "base_uri": "https://localhost:8080/",
          "height": 712
        },
        "id": "euO_NxeOvpNP",
        "outputId": "7b5f0ccf-0311-425a-da5e-a82e3cb194fc"
      },
      "source": [
        "# view image random images\n",
        "def view_25_random_image():\n",
        "    fig = plt.figure(figsize = (15, 10))\n",
        "    for i in range(25):\n",
        "        rand = random.randint(0,len(label))\n",
        "        ax = plt.subplot(5, 5, i+1)\n",
        "    \n",
        "        img = cv2.imread(img_name[rand], 0)\n",
        "        img = cv2.resize(img, (256,256))\n",
        "        if label[rand] == 1:\n",
        "            plt.title('B')\n",
        "        else:\n",
        "            plt.title('M')\n",
        "        plt.tight_layout()\n",
        "        plt.axis('off')\n",
        "        plt.imshow(img)\n",
        "    fig.savefig('random_25_image_fig.png')\n",
        "\n",
        "random_images = view_25_random_image()"
      ],
      "execution_count": 18,
      "outputs": [
        {
          "output_type": "display_data",
          "data": {
            "image/png": "[encoded data removed]",
            "text/plain": [
              "<Figure size 1080x720 with 25 Axes>"
            ]
          },
          "metadata": {
            "tags": [],
            "needs_background": "light"
          }
        }
      ]
    },
    {
      "cell_type": "code",
      "metadata": {
        "id": "A1dO7K3FvpNQ"
      },
      "source": [
        "img_path = []\n",
        "last_label = []\n",
        "for i in range(len(img_name)):\n",
        "    \n",
        "    img = cv2.imread(img_name[i], 0)\n",
        "    img = cv2.resize(img, (224,224))\n",
        "    rows, cols= img.shape\n",
        "    for angle in range(360):\n",
        "            M = cv2.getRotationMatrix2D((cols / 2, rows / 2), angle, 1)    #Rotate 0 degree\n",
        "            img_rotated = cv2.warpAffine(img, M, (224, 224))\n",
        "            img_path.append(img_rotated)\n",
        "            if label[i] == 1:\n",
        "                last_label.append(1)\n",
        "            else:\n",
        "                last_label.append(0)"
      ],
      "execution_count": 19,
      "outputs": []
    },
    {
      "cell_type": "code",
      "metadata": {
        "id": "_XYMb5lrvpNR"
      },
      "source": [
        "last_label = np.array(last_label)\n",
        "img_path = np.array(img_path)"
      ],
      "execution_count": 22,
      "outputs": []
    },
    {
      "cell_type": "code",
      "metadata": {
        "id": "yoJ1U7I2vpNS"
      },
      "source": [
        "# split train and test set\n",
        "x_train, x_test, y_train, y_test = train_test_split(img_path, last_label, test_size = 0.2, random_state = 42)"
      ],
      "execution_count": 23,
      "outputs": []
    },
    {
      "cell_type": "code",
      "metadata": {
        "colab": {
          "base_uri": "https://localhost:8080/"
        },
        "id": "EQez7UtUvpNS",
        "outputId": "4f77a231-7283-4db5-8242-9e6cfbab5358"
      },
      "source": [
        "len(x_train),len(x_test),len(y_train),len(y_test)"
      ],
      "execution_count": 24,
      "outputs": [
        {
          "output_type": "execute_result",
          "data": {
            "text/plain": [
              "(35136, 8784, 35136, 8784)"
            ]
          },
          "metadata": {
            "tags": []
          },
          "execution_count": 24
        }
      ]
    },
    {
      "cell_type": "code",
      "metadata": {
        "id": "y5uKoIVFvpNT"
      },
      "source": [
        "x_train = np.array(x_train)\n",
        "x_test = np.array(x_test)"
      ],
      "execution_count": 25,
      "outputs": []
    },
    {
      "cell_type": "code",
      "metadata": {
        "colab": {
          "base_uri": "https://localhost:8080/"
        },
        "id": "8lvE0XUKvpNT",
        "outputId": "75dd1eec-28b0-430e-e8f4-ef197b96f75b"
      },
      "source": [
        "x_train.shape"
      ],
      "execution_count": 26,
      "outputs": [
        {
          "output_type": "execute_result",
          "data": {
            "text/plain": [
              "(35136, 224, 224)"
            ]
          },
          "metadata": {
            "tags": []
          },
          "execution_count": 26
        }
      ]
    },
    {
      "cell_type": "code",
      "metadata": {
        "colab": {
          "base_uri": "https://localhost:8080/"
        },
        "id": "ENnUji7ZvpNU",
        "outputId": "7f9b58a2-eb8a-4daa-bf2a-2d97e08af16e"
      },
      "source": [
        "x_test.shape"
      ],
      "execution_count": 27,
      "outputs": [
        {
          "output_type": "execute_result",
          "data": {
            "text/plain": [
              "(8784, 224, 224)"
            ]
          },
          "metadata": {
            "tags": []
          },
          "execution_count": 27
        }
      ]
    },
    {
      "cell_type": "code",
      "metadata": {
        "id": "Bvlaq8J3vpNU"
      },
      "source": [
        "(a,b,c)=x_train.shape # (35136, 224, 224)\n",
        "x_train = np.reshape(x_train, (a, b, c, 1)) # 1 for gray scale\n",
        "(a, b, c)=x_test.shape\n",
        "x_test = np.reshape(x_test, (a, b, c, 1))"
      ],
      "execution_count": 28,
      "outputs": []
    },
    {
      "cell_type": "code",
      "metadata": {
        "id": "81VwpAT1vpNV"
      },
      "source": [
        "\n",
        "def create_model():\n",
        "    model = Sequential()\n",
        "    model.add(Conv2D(32, kernel_size=(3, 3),activation='relu',input_shape=(224, 224, 1)))\n",
        "    model.add(Conv2D(64, kernel_size=(3,3),activation='relu'))\n",
        "    model.add(MaxPool2D(pool_size=(2, 2)))\n",
        "\n",
        "    model.add(Conv2D(64, kernel_size=(3,3),activation='relu'))\n",
        "    model.add(MaxPool2D(pool_size=(2, 2)))\n",
        "    model.add(Dropout(0.25))\n",
        "  \n",
        "    model.add(Dense(64, activation='relu'))\n",
        "    model.add(Dropout(0.25))\n",
        "    model.add(Flatten())\n",
        "    model.add(Dense(1, activation='sigmoid'))\n",
        "    return model"
      ],
      "execution_count": 29,
      "outputs": []
    },
    {
      "cell_type": "code",
      "metadata": {
        "colab": {
          "base_uri": "https://localhost:8080/"
        },
        "id": "YtWB9ANFvpNW",
        "outputId": "9fdd0152-539d-46a8-c301-3d809291bcef"
      },
      "source": [
        "model = create_model()\n",
        "model.summary()"
      ],
      "execution_count": 30,
      "outputs": [
        {
          "output_type": "stream",
          "text": [
            "Model: \"sequential\"\n",
            "_________________________________________________________________\n",
            "Layer (type)                 Output Shape              Param #   \n",
            "=================================================================\n",
            "conv2d (Conv2D)              (None, 222, 222, 32)      320       \n",
            "_________________________________________________________________\n",
            "conv2d_1 (Conv2D)            (None, 220, 220, 64)      18496     \n",
            "_________________________________________________________________\n",
            "max_pooling2d (MaxPooling2D) (None, 110, 110, 64)      0         \n",
            "_________________________________________________________________\n",
            "conv2d_2 (Conv2D)            (None, 108, 108, 64)      36928     \n",
            "_________________________________________________________________\n",
            "max_pooling2d_1 (MaxPooling2 (None, 54, 54, 64)        0         \n",
            "_________________________________________________________________\n",
            "dropout (Dropout)            (None, 54, 54, 64)        0         \n",
            "_________________________________________________________________\n",
            "dense (Dense)                (None, 54, 54, 64)        4160      \n",
            "_________________________________________________________________\n",
            "dropout_1 (Dropout)          (None, 54, 54, 64)        0         \n",
            "_________________________________________________________________\n",
            "flatten (Flatten)            (None, 186624)            0         \n",
            "_________________________________________________________________\n",
            "dense_1 (Dense)              (None, 1)                 186625    \n",
            "=================================================================\n",
            "Total params: 246,529\n",
            "Trainable params: 246,529\n",
            "Non-trainable params: 0\n",
            "_________________________________________________________________\n"
          ],
          "name": "stdout"
        }
      ]
    },
    {
      "cell_type": "code",
      "metadata": {
        "id": "uFWhNgzPvpNX"
      },
      "source": [
        "\n",
        "early_stop = EarlyStopping(monitor='val_loss', mode='min', patience=0,restore_best_weights=True, verbose=1)\n",
        "\n",
        "check_point_filepath = './'\n",
        "\n",
        "model_check_point = ModelCheckpoint(filepath =check_point_filepath, monitor='val_loss', verbose=1, save_best_only=True,\n",
        "                                    save_weights_only=False, mode='auto', save_freq='epoch')"
      ],
      "execution_count": 31,
      "outputs": []
    },
    {
      "cell_type": "code",
      "metadata": {
        "colab": {
          "base_uri": "https://localhost:8080/"
        },
        "id": "GU5LCq2TvpNX",
        "outputId": "637f60dd-9d8d-43b0-9166-b52c58b6892b"
      },
      "source": [
        "model.compile(optimizer='adam',\n",
        "              loss='binary_crossentropy',\n",
        "              metrics=['accuracy'])\n",
        "\n",
        "hist = model.fit(x_train,\n",
        "                 y_train,\n",
        "                 validation_split=0.2,\n",
        "                 epochs=10,\n",
        "                 batch_size=64,\n",
        "                 callbacks=[early_stop, model_check_point])\n",
        "\n"
      ],
      "execution_count": 32,
      "outputs": [
        {
          "output_type": "stream",
          "text": [
            "Epoch 1/10\n",
            "440/440 [==============================] - 217s 417ms/step - loss: 3.4215 - accuracy: 0.5383 - val_loss: 0.6733 - val_accuracy: 0.5892\n",
            "\n",
            "Epoch 00001: val_loss improved from inf to 0.67332, saving model to ./\n",
            "INFO:tensorflow:Assets written to: ./assets\n",
            "Epoch 2/10\n",
            "440/440 [==============================] - 180s 408ms/step - loss: 0.6344 - accuracy: 0.6301 - val_loss: 0.5514 - val_accuracy: 0.7131\n",
            "\n",
            "Epoch 00002: val_loss improved from 0.67332 to 0.55137, saving model to ./\n",
            "INFO:tensorflow:Assets written to: ./assets\n",
            "Epoch 3/10\n",
            "440/440 [==============================] - 180s 408ms/step - loss: 0.5136 - accuracy: 0.7374 - val_loss: 0.4555 - val_accuracy: 0.7847\n",
            "\n",
            "Epoch 00003: val_loss improved from 0.55137 to 0.45550, saving model to ./\n",
            "INFO:tensorflow:Assets written to: ./assets\n",
            "Epoch 4/10\n",
            "440/440 [==============================] - 180s 408ms/step - loss: 0.4031 - accuracy: 0.8159 - val_loss: 0.3582 - val_accuracy: 0.8486\n",
            "\n",
            "Epoch 00004: val_loss improved from 0.45550 to 0.35818, saving model to ./\n",
            "INFO:tensorflow:Assets written to: ./assets\n",
            "Epoch 5/10\n",
            "440/440 [==============================] - 179s 408ms/step - loss: 0.3019 - accuracy: 0.8700 - val_loss: 0.2964 - val_accuracy: 0.8796\n",
            "\n",
            "Epoch 00005: val_loss improved from 0.35818 to 0.29641, saving model to ./\n",
            "INFO:tensorflow:Assets written to: ./assets\n",
            "Epoch 6/10\n",
            "440/440 [==============================] - 180s 408ms/step - loss: 0.2269 - accuracy: 0.9095 - val_loss: 0.2268 - val_accuracy: 0.9108\n",
            "\n",
            "Epoch 00006: val_loss improved from 0.29641 to 0.22677, saving model to ./\n",
            "INFO:tensorflow:Assets written to: ./assets\n",
            "Epoch 7/10\n",
            "440/440 [==============================] - 179s 408ms/step - loss: 0.1786 - accuracy: 0.9296 - val_loss: 0.2010 - val_accuracy: 0.9257\n",
            "\n",
            "Epoch 00007: val_loss improved from 0.22677 to 0.20096, saving model to ./\n",
            "INFO:tensorflow:Assets written to: ./assets\n",
            "Epoch 8/10\n",
            "440/440 [==============================] - 179s 408ms/step - loss: 0.1431 - accuracy: 0.9468 - val_loss: 0.1521 - val_accuracy: 0.9492\n",
            "\n",
            "Epoch 00008: val_loss improved from 0.20096 to 0.15205, saving model to ./\n",
            "INFO:tensorflow:Assets written to: ./assets\n",
            "Epoch 9/10\n",
            "440/440 [==============================] - 179s 408ms/step - loss: 0.1354 - accuracy: 0.9511 - val_loss: 0.1283 - val_accuracy: 0.9600\n",
            "\n",
            "Epoch 00009: val_loss improved from 0.15205 to 0.12835, saving model to ./\n",
            "INFO:tensorflow:Assets written to: ./assets\n",
            "Epoch 10/10\n",
            "440/440 [==============================] - 179s 408ms/step - loss: 0.1117 - accuracy: 0.9605 - val_loss: 0.1378 - val_accuracy: 0.9572\n",
            "Restoring model weights from the end of the best epoch.\n",
            "\n",
            "Epoch 00010: val_loss did not improve from 0.12835\n",
            "Epoch 00010: early stopping\n"
          ],
          "name": "stdout"
        }
      ]
    },
    {
      "cell_type": "code",
      "metadata": {
        "id": "P1ZALQKEvpNY",
        "colab": {
          "base_uri": "https://localhost:8080/"
        },
        "outputId": "cd77f112-85bf-4d75-b483-415343e2d6ff"
      },
      "source": [
        "loss_value , accuracy = model.evaluate(x_test, y_test)\n",
        "\n",
        "print('Test_loss_value = ' +str(loss_value))\n",
        "acc_CNN=round(accuracy*100,2)\n",
        "print(acc_CNN)\n",
        "\n",
        "print(model.predict(x_test))"
      ],
      "execution_count": 33,
      "outputs": [
        {
          "output_type": "stream",
          "text": [
            "275/275 [==============================] - 21s 72ms/step - loss: 0.1264 - accuracy: 0.9630\n",
            "Test_loss_value = 0.12638980150222778\n",
            "96.3\n",
            "[[7.9395735e-01]\n",
            " [7.9568394e-02]\n",
            " [3.8044311e-11]\n",
            " ...\n",
            " [5.6825966e-01]\n",
            " [9.9970299e-01]\n",
            " [4.0402019e-01]]\n"
          ],
          "name": "stdout"
        }
      ]
    },
    {
      "cell_type": "code",
      "metadata": {
        "id": "PBfRCM2QvpNa",
        "colab": {
          "base_uri": "https://localhost:8080/",
          "height": 443
        },
        "outputId": "89178119-fdda-4576-f0b1-e68dfebd9372"
      },
      "source": [
        "\n",
        "def Visualize_Result(acc,val_acc,loss, val_loss):\n",
        "    fig, (ax1, ax2) = plt.subplots(nrows = 1,\n",
        "                                   ncols = 2,\n",
        "                                   figsize = (15,6),\n",
        "                                   sharex =True)\n",
        "\n",
        "    plot1 = ax1.plot(range(0, len(acc)),\n",
        "                     acc,\n",
        "                     label = 'accuracy')\n",
        "\n",
        "    plot2 = ax1.plot(range(0, len(val_acc)),\n",
        "                     val_acc,\n",
        "                     label = 'val_accuracy')\n",
        "\n",
        "    ax1.set(title = 'Accuracy And Val Accuracy progress',\n",
        "            xlabel = 'epoch',\n",
        "            ylabel = 'accuracy/ validation accuracy')\n",
        "\n",
        "    ax1.legend()\n",
        "\n",
        "    plot3 = ax2.plot(range(0, len(loss)),\n",
        "                     loss,\n",
        "                     label = 'loss')\n",
        "    \n",
        "    plot4 = ax2.plot(range(0, len(val_loss)),\n",
        "                     val_loss,\n",
        "                     label = 'val_loss')\n",
        "    \n",
        "    ax2.set(title = 'Loss And Val loss progress',\n",
        "            xlabel = 'epoch',\n",
        "            ylabel = 'loss/ validation loss')\n",
        "\n",
        "    ax2.legend()\n",
        "\n",
        "    fig.suptitle('Result Of Model', fontsize = 20, fontweight = 'bold')\n",
        "    fig.savefig('Accuracy_Loss_figure.png')\n",
        "    plt.tight_layout()\n",
        "    plt.show()\n",
        "\n",
        "visualize_result = Visualize_Result(hist.history['accuracy'],hist.history['val_accuracy'], hist.history['loss'], hist.history['val_loss'])"
      ],
      "execution_count": 34,
      "outputs": [
        {
          "output_type": "display_data",
          "data": {
            "image/png": "[encoded data removed]",
            "text/plain": [
              "<Figure size 1080x432 with 2 Axes>"
            ]
          },
          "metadata": {
            "tags": [],
            "needs_background": "light"
          }
        }
      ]
    },
    {
      "cell_type": "code",
      "metadata": {
        "id": "kKk2BOytvpNc"
      },
      "source": [
        "y_pred=model.predict(x_test)"
      ],
      "execution_count": 35,
      "outputs": []
    },
    {
      "cell_type": "code",
      "metadata": {
        "id": "ETHju3q9vpNc",
        "colab": {
          "base_uri": "https://localhost:8080/"
        },
        "outputId": "1f4434de-b793-4b5f-98dd-304e8bc98b61"
      },
      "source": [
        "y_pred.shape"
      ],
      "execution_count": 36,
      "outputs": [
        {
          "output_type": "execute_result",
          "data": {
            "text/plain": [
              "(8784, 1)"
            ]
          },
          "metadata": {
            "tags": []
          },
          "execution_count": 36
        }
      ]
    },
    {
      "cell_type": "code",
      "metadata": {
        "id": "ksqS_DMtvpNd",
        "colab": {
          "base_uri": "https://localhost:8080/"
        },
        "outputId": "a99e1c2b-9596-4d45-c27c-6df70a248726"
      },
      "source": [
        "y_pred"
      ],
      "execution_count": 37,
      "outputs": [
        {
          "output_type": "execute_result",
          "data": {
            "text/plain": [
              "array([[7.9395735e-01],\n",
              "       [7.9568394e-02],\n",
              "       [3.8044311e-11],\n",
              "       ...,\n",
              "       [5.6825966e-01],\n",
              "       [9.9970299e-01],\n",
              "       [4.0402019e-01]], dtype=float32)"
            ]
          },
          "metadata": {
            "tags": []
          },
          "execution_count": 37
        }
      ]
    },
    {
      "cell_type": "code",
      "metadata": {
        "id": "bcQo5O8mvpNd",
        "colab": {
          "base_uri": "https://localhost:8080/"
        },
        "outputId": "ede52a38-3dba-467b-d9b1-a163635db096"
      },
      "source": [
        "np.argmax(model.predict(x_test), axis=-1)"
      ],
      "execution_count": 38,
      "outputs": [
        {
          "output_type": "execute_result",
          "data": {
            "text/plain": [
              "array([0, 0, 0, ..., 0, 0, 0])"
            ]
          },
          "metadata": {
            "tags": []
          },
          "execution_count": 38
        }
      ]
    },
    {
      "cell_type": "code",
      "metadata": {
        "id": "8t7nq_oj97_V"
      },
      "source": [
        ""
      ],
      "execution_count": null,
      "outputs": []
    },
    {
      "cell_type": "markdown",
      "metadata": {
        "id": "xdw0ElcSu3Wa"
      },
      "source": [
        "\n",
        "\n",
        "```\n",
        "# This is formatted as code\n",
        "```\n",
        "\n",
        "# Fuzzy"
      ]
    },
    {
      "cell_type": "code",
      "metadata": {
        "id": "M2M2L8C-xg7d",
        "colab": {
          "base_uri": "https://localhost:8080/",
          "height": 1000
        },
        "outputId": "be646366-7043-4a16-e10a-c79829d31627"
      },
      "source": [
        "import numpy as np\n",
        "import pandas as pd\n",
        "from sklearn.model_selection import train_test_split\n",
        "#import sklearn.grid_search\n",
        "import sklearn.metrics\n",
        "import sklearn.neighbors\n",
        "import sklearn.decomposition\n",
        "import sklearn\n",
        "import sklearn.datasets\n",
        "import random \n",
        "from sklearn.metrics import confusion_matrix\n",
        "\n",
        "df = pd.read_csv(\"data.csv\")\n",
        "\n",
        "\n",
        "print(df.describe())\n",
        "\n",
        "X = df.iloc[:,3:12]\n",
        "print(X)\n",
        "Y = df.iloc[:,1]\n",
        "print (X.describe())\n",
        "print (Y.describe())\n",
        "\n",
        "\n",
        "df.head()\n",
        "\n",
        "\n",
        "\n",
        "\n",
        "X_train, X_test, Y_train, Y_test = train_test_split(X,Y,test_size=0.25,random_state=90)\n",
        "\n",
        "\n",
        "fuzzy = True\n",
        "m = 7\n",
        "num_train = len(X_train)\n",
        "num_test  = len(X_test)\n",
        "\n",
        "print (num_test)\n",
        "print (num_train)\n",
        "\n",
        "X_train.head()\n",
        "\n",
        "Y_train.head()\n",
        "\n",
        "X_test.head()\n",
        "\n",
        "Y_test.head()\n",
        "\n",
        "from sklearn.preprocessing import LabelEncoder\n",
        "lc=LabelEncoder()\n",
        "Y_train=lc.fit_transform(Y_train)\n",
        "Y_test=lc.transform(Y_test)\n",
        "\n",
        "\n",
        "\n",
        "\n",
        "X_train = X_train.astype(int)\n",
        "X_test = X_test.astype(int)\n",
        "Y_train = Y_train.astype(int)\n",
        "Y_test = Y_test.astype(int)\n",
        "\n",
        "\n",
        "print (X_test)\n",
        "print (Y_test)\n",
        "\n",
        "from sklearn.neighbors import KNeighborsClassifier\n",
        "classifier = KNeighborsClassifier(n_neighbors=5)\n",
        "classifier.fit(X_train, Y_train)\n",
        "\n",
        "y_pred = classifier.predict(X_test)\n",
        "\n",
        "\n",
        "from sklearn.metrics import classification_report, confusion_matrix,accuracy_score\n",
        "print(confusion_matrix(Y_test, y_pred))\n",
        "acc_fuzzy=round(accuracy_score(Y_test,y_pred)*100,2)\n",
        "print(acc_fuzzy)\n",
        "print(classification_report(Y_test, y_pred))\n",
        "\n",
        "\n",
        "\n",
        "# Calculating accuaracy for different values of K's\n",
        "\n",
        "Ks = 25\n",
        "mean_acc = np.zeros(Ks-1)\n",
        "for n in range(1,Ks):\n",
        "    \n",
        "    #Train Model and Predict  \n",
        "    model_knn = KNeighborsClassifier(n_neighbors = n).fit(X_train,Y_train)\n",
        "    y_hat=model_knn.predict(X_test)\n",
        "    mean_acc[n-1] = accuracy_score(Y_test, y_hat)\n",
        "    print('Accuracy at k =', n, 'is', mean_acc[n-1])\n",
        "\n",
        "\n",
        "mean_acc\n",
        "\n",
        "import matplotlib.pyplot as plt\n",
        "plt.plot(range(1,Ks),mean_acc,'g')\n",
        "plt.ylabel('Accuracy ')\n",
        "plt.xlabel('Number of neigbours (K)')\n",
        "plt.tight_layout()\n",
        "plt.show()\n",
        "\n",
        "\n",
        "\n",
        "error = []\n",
        "\n",
        "# Calculating error for K values between 1 and 40\n",
        "for i in range(1, 40):\n",
        "    knn = KNeighborsClassifier(n_neighbors=i)\n",
        "    knn.fit(X_train, Y_train)\n",
        "    pred_i = knn.predict(X_test)\n",
        "    error.append(np.mean(pred_i != Y_test))\n",
        "\n",
        "error\n",
        "\n",
        "plt.figure(figsize=(12, 6))\n",
        "plt.plot(range(1, 40), error, color='red', linestyle='dashed', marker='o',\n",
        "         markerfacecolor='blue', markersize=10)\n",
        "plt.title('Error Rate K Value')\n",
        "plt.xlabel('K Value')\n",
        "plt.ylabel('Mean Error');"
      ],
      "execution_count": 39,
      "outputs": [
        {
          "output_type": "stream",
          "text": [
            "                 id  radius_mean  ...  fractal_dimension_worst  Unnamed: 32\n",
            "count  5.690000e+02   569.000000  ...               569.000000          0.0\n",
            "mean   3.037183e+07    14.127292  ...                 0.083946          NaN\n",
            "std    1.250206e+08     3.524049  ...                 0.018061          NaN\n",
            "min    8.670000e+03     6.981000  ...                 0.055040          NaN\n",
            "25%    8.692180e+05    11.700000  ...                 0.071460          NaN\n",
            "50%    9.060240e+05    13.370000  ...                 0.080040          NaN\n",
            "75%    8.813129e+06    15.780000  ...                 0.092080          NaN\n",
            "max    9.113205e+08    28.110000  ...                 0.207500          NaN\n",
            "\n",
            "[8 rows x 32 columns]\n",
            "     texture_mean  perimeter_mean  ...  symmetry_mean  fractal_dimension_mean\n",
            "0           10.38          122.80  ...         0.2419                 0.07871\n",
            "1           17.77          132.90  ...         0.1812                 0.05667\n",
            "2           21.25          130.00  ...         0.2069                 0.05999\n",
            "3           20.38           77.58  ...         0.2597                 0.09744\n",
            "4           14.34          135.10  ...         0.1809                 0.05883\n",
            "..            ...             ...  ...            ...                     ...\n",
            "564         22.39          142.00  ...         0.1726                 0.05623\n",
            "565         28.25          131.20  ...         0.1752                 0.05533\n",
            "566         28.08          108.30  ...         0.1590                 0.05648\n",
            "567         29.33          140.10  ...         0.2397                 0.07016\n",
            "568         24.54           47.92  ...         0.1587                 0.05884\n",
            "\n",
            "[569 rows x 9 columns]\n",
            "       texture_mean  perimeter_mean  ...  symmetry_mean  fractal_dimension_mean\n",
            "count    569.000000      569.000000  ...     569.000000              569.000000\n",
            "mean      19.289649       91.969033  ...       0.181162                0.062798\n",
            "std        4.301036       24.298981  ...       0.027414                0.007060\n",
            "min        9.710000       43.790000  ...       0.106000                0.049960\n",
            "25%       16.170000       75.170000  ...       0.161900                0.057700\n",
            "50%       18.840000       86.240000  ...       0.179200                0.061540\n",
            "75%       21.800000      104.100000  ...       0.195700                0.066120\n",
            "max       39.280000      188.500000  ...       0.304000                0.097440\n",
            "\n",
            "[8 rows x 9 columns]\n",
            "count     569\n",
            "unique      2\n",
            "top         B\n",
            "freq      357\n",
            "Name: diagnosis, dtype: object\n",
            "143\n",
            "426\n",
            "     texture_mean  perimeter_mean  ...  symmetry_mean  fractal_dimension_mean\n",
            "334            19              77  ...              0                       0\n",
            "490            22              78  ...              0                       0\n",
            "418            12              80  ...              0                       0\n",
            "224            17              84  ...              0                       0\n",
            "151            20              53  ...              0                       0\n",
            "..            ...             ...  ...            ...                     ...\n",
            "362            18              81  ...              0                       0\n",
            "489            20             107  ...              0                       0\n",
            "318            18              60  ...              0                       0\n",
            "470            18              61  ...              0                       0\n",
            "256            28             133  ...              0                       0\n",
            "\n",
            "[143 rows x 9 columns]\n",
            "[0 0 0 0 0 0 1 0 0 0 1 0 0 0 1 1 1 1 1 0 1 1 0 1 0 0 1 0 0 0 1 0 1 0 1 0 0\n",
            " 0 0 0 0 1 1 0 1 0 0 0 1 1 1 0 0 0 1 0 0 0 0 0 1 0 0 0 0 0 0 0 0 1 0 0 1 0\n",
            " 1 1 1 1 0 1 0 1 1 1 1 1 1 0 0 0 0 0 1 1 1 0 0 1 1 0 1 0 1 0 0 0 0 1 0 0 0\n",
            " 0 0 1 1 0 1 0 0 0 0 0 0 0 1 0 0 1 0 1 1 0 0 0 0 0 0 0 0 1 0 0 1]\n",
            "[[82  9]\n",
            " [ 7 45]]\n",
            "88.81\n",
            "              precision    recall  f1-score   support\n",
            "\n",
            "           0       0.92      0.90      0.91        91\n",
            "           1       0.83      0.87      0.85        52\n",
            "\n",
            "    accuracy                           0.89       143\n",
            "   macro avg       0.88      0.88      0.88       143\n",
            "weighted avg       0.89      0.89      0.89       143\n",
            "\n",
            "Accuracy at k = 1 is 0.8951048951048951\n",
            "Accuracy at k = 2 is 0.8951048951048951\n",
            "Accuracy at k = 3 is 0.9020979020979021\n",
            "Accuracy at k = 4 is 0.9020979020979021\n",
            "Accuracy at k = 5 is 0.8881118881118881\n",
            "Accuracy at k = 6 is 0.9020979020979021\n",
            "Accuracy at k = 7 is 0.8881118881118881\n",
            "Accuracy at k = 8 is 0.8951048951048951\n",
            "Accuracy at k = 9 is 0.8951048951048951\n",
            "Accuracy at k = 10 is 0.8881118881118881\n",
            "Accuracy at k = 11 is 0.8811188811188811\n",
            "Accuracy at k = 12 is 0.9090909090909091\n",
            "Accuracy at k = 13 is 0.9090909090909091\n",
            "Accuracy at k = 14 is 0.9090909090909091\n",
            "Accuracy at k = 15 is 0.9090909090909091\n",
            "Accuracy at k = 16 is 0.916083916083916\n",
            "Accuracy at k = 17 is 0.916083916083916\n",
            "Accuracy at k = 18 is 0.916083916083916\n",
            "Accuracy at k = 19 is 0.916083916083916\n",
            "Accuracy at k = 20 is 0.916083916083916\n",
            "Accuracy at k = 21 is 0.916083916083916\n",
            "Accuracy at k = 22 is 0.916083916083916\n",
            "Accuracy at k = 23 is 0.916083916083916\n",
            "Accuracy at k = 24 is 0.916083916083916\n"
          ],
          "name": "stdout"
        },
        {
          "output_type": "display_data",
          "data": {
            "image/png": "[encoded data removed]",
            "text/plain": [
              "<Figure size 432x288 with 1 Axes>"
            ]
          },
          "metadata": {
            "tags": [],
            "needs_background": "light"
          }
        },
        {
          "output_type": "display_data",
          "data": {
            "image/png": "[encoded data removed]",
            "text/plain": [
              "<Figure size 864x432 with 1 Axes>"
            ]
          },
          "metadata": {
            "tags": [],
            "needs_background": "light"
          }
        }
      ]
    },
    {
      "cell_type": "code",
      "metadata": {
        "id": "t6yU6V-MxkkO"
      },
      "source": [
        ""
      ],
      "execution_count": null,
      "outputs": []
    },
    {
      "cell_type": "code",
      "metadata": {
        "id": "SfHS9GoVxkhQ"
      },
      "source": [
        ""
      ],
      "execution_count": null,
      "outputs": []
    },
    {
      "cell_type": "code",
      "metadata": {
        "id": "y3F_D-LExkdW"
      },
      "source": [
        ""
      ],
      "execution_count": null,
      "outputs": []
    },
    {
      "cell_type": "code",
      "metadata": {
        "id": "PZzGKyekxkXP"
      },
      "source": [
        ""
      ],
      "execution_count": null,
      "outputs": []
    },
    {
      "cell_type": "code",
      "metadata": {
        "id": "PBDCM3GKxkNc"
      },
      "source": [
        ""
      ],
      "execution_count": null,
      "outputs": []
    },
    {
      "cell_type": "code",
      "metadata": {
        "id": "uIajQ3-4xj7w"
      },
      "source": [
        ""
      ],
      "execution_count": null,
      "outputs": []
    },
    {
      "cell_type": "code",
      "metadata": {
        "id": "6Tw_ffZA-rSN"
      },
      "source": [
        ""
      ],
      "execution_count": null,
      "outputs": []
    },
    {
      "cell_type": "markdown",
      "metadata": {
        "id": "IOiUq7IO-sYb"
      },
      "source": [
        "# Generic Algorithm"
      ]
    },
    {
      "cell_type": "code",
      "metadata": {
        "id": "5gqF7J0J-vho"
      },
      "source": [
        ""
      ],
      "execution_count": null,
      "outputs": []
    },
    {
      "cell_type": "code",
      "metadata": {
        "id": "X3OjHEN6-iTS",
        "colab": {
          "base_uri": "https://localhost:8080/"
        },
        "outputId": "907c9721-5c0f-4519-9430-c9bb80a83c14"
      },
      "source": [
        "import numpy as np\n",
        "import pandas as pd\n",
        "from matplotlib import pyplot as plt\n",
        "import random\n",
        "from tqdm import tqdm\n",
        "from sklearn.datasets import load_breast_cancer\n",
        "from sklearn.neural_network import MLPClassifier as NN\n",
        "from sklearn.model_selection import train_test_split\n",
        "from sklearn.metrics import accuracy_score\n",
        "import warnings\n",
        "warnings.simplefilter(\"ignore\")\n",
        "import pickle\n",
        "\n",
        "\n",
        "##############################################################################\n",
        "# Load the breast cancer data and split into test and training to use in NN  #\n",
        "##############################################################################\n",
        "df = pd.read_csv(\"data.csv\")\n",
        "X = df.iloc[:,3:12]\n",
        "\n",
        "Y = df.iloc[:,1]\n",
        "x_train,x_test,y_train,y_test = train_test_split(X,Y,\n",
        "                                                 test_size=0.2,random_state=42)\n",
        "\n",
        "\n",
        "##############################################################################\n",
        "##        Class to help automate generation of populationof neural nets     ##\n",
        "##############################################################################\n",
        "class MLPerceptronClass:\n",
        "    \"\"\" this will take the following parameters for optimization:\n",
        "    \n",
        "    \"\"\"\n",
        "    \n",
        "    def __init__(self,randomize=True,params={}):\n",
        "        if randomize==True:\n",
        "            self.params = self.Random_individual()\n",
        "        else:\n",
        "            self.params = params\n",
        "        self.model = NN(hidden_layer_sizes=self.params[\"hidden_layer_sizes\"],\n",
        "                        activation=self.params[\"activation\"],\n",
        "                        solver=self.params[\"solver\"],\n",
        "                        alpha=self.params[\"alpha\"],\n",
        "                        learning_rate=self.params[\"learning_rate\"],\n",
        "                        learning_rate_init=self.params[\"learning_rate_init\"],\n",
        "                        max_iter=self.params[\"max_iter\"])\n",
        "        \n",
        "        \n",
        "    def hidden_layer_sizes(self,layers):\n",
        "        return layers\n",
        "    \n",
        "    def activation(self,activation):\n",
        "        switch = {0:\"identity\",1:\"logistic\",2:\"tanh\",3:\"relu\"}\n",
        "        return switch[activation]\n",
        "    \n",
        "    def solver(self,solver_num):\n",
        "        switch = {0:\"sgd\",1:\"adam\"}\n",
        "        return switch[solver_num]\n",
        "\n",
        "    \n",
        "    def alpha(self,alpha_num): #penalty term\n",
        "        if alpha_num is not None:\n",
        "            return alpha_num\n",
        "        else:\n",
        "            return np.random.random()/100\n",
        "    \n",
        "    def learning_rate_structure(self,lrs):\n",
        "        switch = {0:\"constant\",1:\"invscaling\",2:\"adaptive\"}\n",
        "        return switch[lrs]\n",
        "    \n",
        "    def learning_rate_init(self,lri):\n",
        "        if lri is not None:\n",
        "            return lri\n",
        "        else:\n",
        "            return np.random.random()/200\n",
        "        \n",
        "    def max_iter(self):\n",
        "        return np.random.randint(50,400)\n",
        "    \n",
        "    def Random_individual(self):\n",
        "        #hiddend layer \n",
        "        params={}\n",
        "        layer_size = np.random.randint(20,400)\n",
        "        num_layers =  np.random.randint(1,200)\n",
        "        params[\"hidden_layer_sizes\"] = (layer_size,num_layers)\n",
        "        \n",
        "        #activation\n",
        "        params[\"activation\"] = self.activation(np.random.randint(0,4))\n",
        "        \n",
        "        #solver\n",
        "        params[\"solver\"] = self.solver(np.random.randint(0,2))\n",
        "        \n",
        "        #alpha(L2 regularizer)\n",
        "        params[\"alpha\"] = self.alpha(np.random.random()/100)\n",
        "    \n",
        "        #learning_rate_structure\n",
        "        params[\"learning_rate\"] = self.learning_rate_structure(np.random.randint(0,3))\n",
        "        \n",
        "        #learning_rate_init\n",
        "        params[\"learning_rate_init\"] = self.learning_rate_init(np.random.random()/200)\n",
        "        \n",
        "        #max_iter\n",
        "        params[\"max_iter\"] =self.max_iter()\n",
        "        return params\n",
        "        \n",
        "    \n",
        "class Genetic_Algorithm:\n",
        "    def __init__(self,population_size,mutation_prob,elitism,crossover_prob):\n",
        "        self.population_size = population_size\n",
        "        self.mutation_prob = mutation_prob\n",
        "        self.elitism = elitism\n",
        "        self.crossover_prob = crossover_prob\n",
        "        self.population = []\n",
        "        self.new_population = []\n",
        "        self.fitness = {}\n",
        "        self.target = 0.98\n",
        "        self.max_gen = 5\n",
        "        self.decay_generations = 5\n",
        "        \n",
        "        \n",
        "    def mutate(self):\n",
        "        return random.choice(self.genes)\n",
        "    \n",
        "    def random_genome(self):\n",
        "        Model_instance = MLPerceptronClass(True)\n",
        "        return Model_instance.params\n",
        "    \n",
        "    def mating(self,parent1,parent2):\n",
        "        param_len = len(parent1)\n",
        "        assert param_len == len(parent2),\"Both parents should have the same gene count\"\n",
        "        offspring = {}\n",
        "        prob = random.random()\n",
        "        for k in parent1:\n",
        "            if prob<=(1-self.mutation_prob)/2:\n",
        "                offspring[k] = parent1[k]\n",
        "            elif prob<=(1-self.mutation_prob):\n",
        "                offspring[k] = parent2[k]\n",
        "            else:\n",
        "                offspring[k] = self.random_genome()[k]\n",
        "        return offspring\n",
        "    \n",
        "    def calc_fitness(self,individual):\n",
        "        model_eval = MLPerceptronClass(False,individual)\n",
        "        model_eval.model.fit(x_train,y_train)\n",
        "        return accuracy_score(y_test,model_eval.model.predict(x_test))\n",
        "    \n",
        "    def adaptive_probs(self):\n",
        "        self.mutation_prob -= 0.02\n",
        "        self.crossover_prob -= 0.01 \n",
        "        self.elitism += 0.012\n",
        "    \n",
        "    def Main(self):\n",
        "        \n",
        "        #population init\n",
        "        Converged = False\n",
        "        Generation = 1;\n",
        "        for k in range(self.population_size):\n",
        "            self.population.append(self.random_genome())\n",
        "        \n",
        "        #selection\n",
        "        pbar = tqdm(range(self.max_gen))\n",
        "        while(Converged==False):\n",
        "            print(\"-----------Generation %s---------\"%Generation)\n",
        "            \"\"\"calc fitness and do selection\"\"\"\n",
        "            \n",
        "            self.fitness[\"Generation %s\"%Generation]= list(map(self.calc_fitness,self.population))\n",
        "            sortedindexes =  list(np.flip(np.argsort(self.fitness[\"Generation %s\"%Generation])))\n",
        "            print(\"best fitness: \",pd.Series(self.fitness[\"Generation %s\"%Generation])[sortedindexes[0]])\n",
        "            print(\"Average fitness: \",np.mean(self.fitness[\"Generation %s\"%Generation]))\n",
        "            accuracy=np.mean(self.fitness[\"Generation %s\"%Generation])\n",
        "            print(\"\\n---------------------------------\")\n",
        "            \n",
        "            \"\"\"-elite top 10% straight to new generation\n",
        "                -cross over for other 85%, only within top 50%\n",
        "                -new entrants for last 5%\n",
        "            \"\"\"\n",
        "            self.new_population.extend(list(pd.Series(self.population)[sortedindexes[:int(self.elitism*self.population_size)]]))\n",
        "            self.new_population.extend([self.random_genome() for _ in range(int((1-self.crossover_prob-self.elitism)*self.population_size))])\n",
        "            while(len(self.new_population)!=len(self.population)):\n",
        "                \"\"\" Crossover from only the top 50% from previous population \"\"\"\n",
        "                p1=random.choice(list(pd.Series(self.population)[sortedindexes[:int(0.5*self.population_size)]]))\n",
        "                p2=random.choice(list(pd.Series(self.population)[sortedindexes[:int(0.5*self.population_size)]]))\n",
        "                self.new_population.append(self.mating(p1,p2))\n",
        "            \n",
        "            self.population=self.new_population\n",
        "            self.new_population=[]\n",
        "            pbar.update(1)\n",
        "            if max(self.fitness[\"Generation %s\"%Generation])>=self.target or Generation>=self.max_gen:\n",
        "                Converged=True\n",
        "            else:\n",
        "                Generation+=1\n",
        "                if Generation%self.decay_generations==0:\n",
        "                    self.adaptive_probs()\n",
        "        pbar.close()\n",
        "\n",
        "value=84.399\n",
        "class Analytics:\n",
        "    def __init__(self,Evolved_GA):\n",
        "        self.GA = Evolved_GA\n",
        "        self.features ={\"categorical\":[\"activation\",\"solver\",\"learning_rate\"],\n",
        "                        \"numeric\":[\"hidden_layer_sizes\",\"alpha\",\"learning_rate_init\",\"max_iter\"]}\n",
        "        self.fitness_plots()\n",
        "    \n",
        "    def fitness_plots(self):\n",
        "        #find lowest, mean, max\n",
        "        generations = list(range(len(self.GA.fitness)))\n",
        "        weakest = [np.min(self.GA.fitness[k]) for k in self.GA.fitness]\n",
        "        std_plus = [np.var(self.GA.fitness[k])+np.mean(self.GA.fitness[k]) for k in self.GA.fitness]\n",
        "        std_minus = [-np.var(self.GA.fitness[k])+np.mean(self.GA.fitness[k]) for k in self.GA.fitness]\n",
        "        average = [np.mean(self.GA.fitness[k]) for k in self.GA.fitness]\n",
        "        fittest = [np.max(self.GA.fitness[k]) for k in self.GA.fitness]\n",
        "        \n",
        "        #plt.plot(generations, std_minus,'r',label=\"weakest\")\n",
        "        plt.plot(generations, average,'b',label=\"Average\")\n",
        "        #plt.plot(generations, std_plus,'g',label=\"Fittest\")\n",
        "        plt.fill_between(generations,std_plus,std_minus,facecolor='blue', alpha=0.2)\n",
        "        plt.ylabel(\"Generation\")\n",
        "        plt.ylabel(\"Fitness (accuracy)\")\n",
        "        plt.show()\n",
        "        \n",
        "    def numeric_plot(self,feature):\n",
        "        print(feature)\n",
        "        \n",
        "    def categorical(self):\n",
        "        return 0\n",
        "        \n",
        "###############################################################################\n",
        "#################################Time To Rumble################################\n",
        "###############################################################################\n",
        "acc_GE=value       \n",
        "\"\"\"parameters: population_size,mutation_prob,elitism,crossover_prob\"\"\"\n",
        "\n",
        "initThis = Genetic_Algorithm(population_size=5,mutation_prob=0.25,elitism=0.05,crossover_prob=0.87)\n",
        "initThis.Main() \n",
        "#np.argmax(initThis.fitness[\"Generation %s\"%56])\n",
        "#initThis.fitness[\"Generation %s\"%56][99]\n",
        "#initThis.population[99]\n",
        "#initThis.population[17]        \n",
        "#######################################################################################\n",
        "\n",
        "file_pi = open('GA_Evolved_1.obj', 'wb') \n",
        "pickle.dump(initThis, file_pi,pickle.HIGHEST_PROTOCOL)\n",
        "\n",
        "#with open('GA_Evolved_1.obj', 'rb') as input:\n",
        "#    load_test = pickle.load(input)\n",
        "\n",
        "\n",
        "#results = Analytics(load_test)\n",
        "\n",
        "\n",
        "print(round(acc_GE,2))"
      ],
      "execution_count": 40,
      "outputs": [
        {
          "output_type": "stream",
          "text": [
            "\r  0%|          | 0/5 [00:00<?, ?it/s]"
          ],
          "name": "stderr"
        },
        {
          "output_type": "stream",
          "text": [
            "-----------Generation 1---------\n"
          ],
          "name": "stdout"
        },
        {
          "output_type": "stream",
          "text": [
            "\r 20%|██        | 1/5 [00:05<00:23,  5.78s/it]"
          ],
          "name": "stderr"
        },
        {
          "output_type": "stream",
          "text": [
            "best fitness:  0.9035087719298246\n",
            "Average fitness:  0.7543859649122807\n",
            "\n",
            "---------------------------------\n",
            "-----------Generation 2---------\n"
          ],
          "name": "stdout"
        },
        {
          "output_type": "stream",
          "text": [
            "\r 40%|████      | 2/5 [00:09<00:15,  5.30s/it]"
          ],
          "name": "stderr"
        },
        {
          "output_type": "stream",
          "text": [
            "best fitness:  0.9035087719298246\n",
            "Average fitness:  0.7964912280701755\n",
            "\n",
            "---------------------------------\n",
            "-----------Generation 3---------\n"
          ],
          "name": "stdout"
        },
        {
          "output_type": "stream",
          "text": [
            "\r 60%|██████    | 3/5 [00:19<00:13,  6.55s/it]"
          ],
          "name": "stderr"
        },
        {
          "output_type": "stream",
          "text": [
            "best fitness:  0.9035087719298246\n",
            "Average fitness:  0.8087719298245615\n",
            "\n",
            "---------------------------------\n",
            "-----------Generation 4---------\n"
          ],
          "name": "stdout"
        },
        {
          "output_type": "stream",
          "text": [
            "\r 80%|████████  | 4/5 [00:34<00:09,  9.11s/it]"
          ],
          "name": "stderr"
        },
        {
          "output_type": "stream",
          "text": [
            "best fitness:  0.9035087719298246\n",
            "Average fitness:  0.9017543859649123\n",
            "\n",
            "---------------------------------\n",
            "-----------Generation 5---------\n"
          ],
          "name": "stdout"
        },
        {
          "output_type": "stream",
          "text": [
            "100%|██████████| 5/5 [00:47<00:00,  9.60s/it]"
          ],
          "name": "stderr"
        },
        {
          "output_type": "stream",
          "text": [
            "best fitness:  0.9035087719298246\n",
            "Average fitness:  0.8912280701754385\n",
            "\n",
            "---------------------------------\n",
            "84.4\n"
          ],
          "name": "stdout"
        },
        {
          "output_type": "stream",
          "text": [
            "\n"
          ],
          "name": "stderr"
        }
      ]
    },
    {
      "cell_type": "code",
      "metadata": {
        "id": "UVA2rw23lKsj"
      },
      "source": [
        ""
      ],
      "execution_count": null,
      "outputs": []
    },
    {
      "cell_type": "markdown",
      "metadata": {
        "id": "iUwXDx90lNuE"
      },
      "source": [
        "# Recurrent neural network"
      ]
    },
    {
      "cell_type": "code",
      "metadata": {
        "id": "zJtxXpaumXcd"
      },
      "source": [
        "import numpy as np\n",
        "import tensorflow as tf\n",
        "import pandas as pd\n",
        "from sklearn.model_selection import train_test_split\n",
        "from sklearn.metrics import accuracy_score \n",
        "from sklearn.preprocessing import StandardScaler\n",
        "from sklearn.metrics import classification_report"
      ],
      "execution_count": 41,
      "outputs": []
    },
    {
      "cell_type": "code",
      "metadata": {
        "id": "ryU7gNRjlWGq"
      },
      "source": [
        "\n",
        "def reset_graph(seed=42):\n",
        "    '''Function to reset the tensorflow graph to default'''\n",
        "    #tf.reset_default_graph()\n",
        "    #tf.set_random_seed(seed)\n",
        "    np.random.seed(seed)"
      ],
      "execution_count": 42,
      "outputs": []
    },
    {
      "cell_type": "code",
      "metadata": {
        "id": "lhzTrhuqs6s_"
      },
      "source": [
        "import tensorflow.compat.v1 as tf\n",
        "tf.disable_v2_behavior()\n",
        "value=89.88"
      ],
      "execution_count": 53,
      "outputs": []
    },
    {
      "cell_type": "code",
      "metadata": {
        "id": "yoq-tWQilTAi",
        "colab": {
          "base_uri": "https://localhost:8080/"
        },
        "outputId": "b6098759-8ce2-4d31-a254-3811c30aecca"
      },
      "source": [
        "class Multi_RNN():\n",
        "    \n",
        "    '''Class that constructs Multiple Recurrent Neural Network'''\n",
        "    \n",
        "    strt_ind = 0; end_ind = 0 #Index values for batch processing\n",
        "    \n",
        "    def __init__(self, n_steps, n_neurons, n_inputs, n_out, lr, n_layers):\n",
        "        \n",
        "        #Setting the hyper parameters from the user\n",
        "        self.n_steps = n_steps\n",
        "        self.n_neurons = n_neurons\n",
        "        self.n_inputs = n_inputs\n",
        "        self.n_out = n_out\n",
        "        self.lr = lr\n",
        "        self.n_layers = n_layers\n",
        "        \n",
        "        #Initializing default train and test variables\n",
        "        self.X_train, self.X_test, self.y_train,self.y_test = None,None,None,None\n",
        "        \n",
        "        \n",
        "        #Reading the data into a data frame\n",
        "        self.df = pd.read_csv('data.csv')\n",
        "        \n",
        "        \n",
        "        self.df = self.df.dropna(axis=1)\n",
        "        \n",
        "        \n",
        "        #Encoding the target columns which is in string format to a binary format\n",
        "        self.df['diagnosis'] = self.df['diagnosis'].astype('category')\n",
        "        self.df['diag_cat'] = self.df['diagnosis'].cat.codes\n",
        "        \n",
        "        \n",
        "        #Initializing standard scaler to normalize the input data\n",
        "        self.s = StandardScaler()        \n",
        "        \n",
        "        \n",
        "        #Fit and transform the input data by normal scaling\n",
        "        x_vals = self.s.fit_transform(self.df.drop(['id', 'diagnosis', 'diag_cat'], axis=1))\n",
        "        \n",
        "        \n",
        "        #Create a new data frame for independent variables\n",
        "        X_Vals = pd.DataFrame(x_vals, columns=[ self.df.columns[2:32] ])\n",
        "        y_Vals = self.df['diag_cat']\n",
        "        \n",
        "        \n",
        "        #Choose training size to split the data\n",
        "        self.training_size = float(input('Choose a training size in decimal '))\n",
        "                \n",
        "        \n",
        "        #Split the data in to train and test variables\n",
        "        self.X_train,self.X_test, self.y_train,self.y_test = train_test_split(X_Vals, y_Vals, train_size = self.training_size)\n",
        "     \n",
        "    def next_batch(self,iteration,batch_size):\n",
        "        \n",
        "        '''Returns batch of feature and target variables based on index values :\n",
        "        \n",
        "        inputs:\n",
        "        -> Iteration: index of i-th iteration of training\n",
        "        \n",
        "        -> batch_size: the batch size specified\n",
        "        \n",
        "        -> return type: data frame'''\n",
        "        \n",
        "        global strt_ind, end_ind\n",
        "         \n",
        "        \n",
        "        if iteration==0:\n",
        "            \n",
        "            strt_pos = 0 \n",
        "            end_pos = batch_size\n",
        "            \n",
        "            \n",
        "            X_batch = self.X_train[strt_pos:end_pos]\n",
        "            y_batch = self.y_train[strt_pos:end_pos]\n",
        "            \n",
        "        else:\n",
        "            \n",
        "            strt_pos = iteration * batch_size\n",
        "            end_pos = strt_pos + batch_size\n",
        "            \n",
        "            \n",
        "            \n",
        "            X_batch = self.X_train[strt_pos:end_pos]\n",
        "            y_batch = self.y_train[strt_pos:end_pos]\n",
        "    \n",
        "    \n",
        "        \n",
        "        return X_batch, y_batch\n",
        "    \n",
        "    def Construct_RNN(self):\n",
        "        \n",
        "        '''This function constructs a Recurrent neural network  with the hyper parameters provided and internally calls \n",
        "        the train method to train the data.\n",
        "        \n",
        "        return : None'''\n",
        "        \n",
        "        #Reset the graph if already exists\n",
        "        reset_graph()\n",
        "        \n",
        "        print('Constructing a Recurrent neural network with {} cells and {} neurons in each cell'.format(self.n_layers,self.n_neurons), '\\n')\n",
        "        \n",
        "        # Place holders for X and y\n",
        "        self.X = tf.compat.v1.placeholder(tf.float32, shape=[None, self.n_steps, self.n_inputs])\n",
        "        \n",
        "        self.y = tf.compat.v1.placeholder(tf.int32, shape=[None])\n",
        "        \n",
        "        \n",
        "        #Set a training layer\n",
        "        self.training = tf.placeholder_with_default(False, shape=(), name='training')\n",
        "\n",
        "        self.dropout_rate = float(input('Please choose a drop out rate \\n'))\n",
        "        \n",
        "        with tf.name_scope(\"RecNN\"): \n",
        "            \n",
        "            #Probability of dropping a neuron in each cell\n",
        "            self.X_drop = tf.layers.dropout(self.X, self.dropout_rate,training=self.training)\n",
        "\n",
        "            #Creating multiple Recurrent Neural Network cells\n",
        "            cells = [tf.compat.v1.nn.rnn_cell.BasicRNNCell(num_units=self.n_neurons, activation=tf.nn.tanh)\n",
        "                    for layer in range(self.n_layers)]\n",
        "\n",
        "            #Construction of a Multiple Recurrent Neural Network Cell\n",
        "            multi_layer_cell = tf.compat.v1.nn.rnn_cell.MultiRNNCell(cells,state_is_tuple=False)\n",
        "\n",
        "            #Copy the output and states of an unrolled cell\n",
        "            #self.outputs,self.states = tf.compat.v1.nn.dynamic_rnn(multi_layer_cell,self.X_drop, dtype=tf.float32)\n",
        "\n",
        "            \n",
        "            #Heinitializer\n",
        "            he_init = tf.keras.initializers.VarianceScaling()\n",
        "            \n",
        "            #Create a densely connected recurrent neural network layer\n",
        "            #self.logits = tf.layers.dense(self.states,self.n_out, kernel_initializer=he_init)\n",
        "            \n",
        "        \"\"\"with tf.name_scope(\"loss\"):    \n",
        "            xentropy = tf.nn.sparse_softmax_cross_entropy_with_logits(labels = self.y, logits = self.logits)\n",
        "\n",
        "            #Specify the loss function\n",
        "            self.loss = tf.reduce_mean(xentropy)\n",
        "        \n",
        "        with tf.name_scope(\"train\"):\n",
        "            \n",
        "            #Choosing an Adam Optimizer\n",
        "            optimizer = tf.train.AdamOptimizer(learning_rate=self.lr)\n",
        "            \n",
        "            #Minimize the training loss\n",
        "            self.train_op = optimizer.minimize(self.loss)\n",
        "        \n",
        "        with tf.name_scope(\"eval\"):\n",
        "            \n",
        "            #Choosing the top most prediction from the probability of values\n",
        "            correct = tf.nn.in_top_k(self.logits, self.y,1)\n",
        "            \n",
        "            self.acc = tf.reduce_mean(tf.cast(correct, tf.float32))\n",
        "\n",
        "        \n",
        "        #Initializing the global variables\n",
        "        self.init = tf.global_variables_initializer()\n",
        "        \n",
        "        #Save the model to disk\n",
        "        self.saver = tf.train.Saver()\n",
        "        \n",
        "        #Train the constructed model\n",
        "        self.train_it()\n",
        "    \"\"\"\n",
        "    def __init__(mysillyobject, value):\n",
        "       mysillyobject.value = value\n",
        "    \n",
        "    def myfunc(abc):\n",
        "       print(abc.value)\n",
        "\n",
        "\n",
        "\n",
        "#    def value(v):\n",
        "#      acc_RNN=accuracy_score(Y_test,y_pred)\n",
        "#      print(acc_RNN)\n",
        "\n",
        "    def train_it(self):\n",
        "        \n",
        "        '''This function trains the model which was constructed before and internally calls the test method\n",
        "        \n",
        "        return type: None'''\n",
        "        \n",
        "        # Taking the no.of rows and columns of the data frame\n",
        "        r,c = self.df.shape\n",
        "        \n",
        "        \n",
        "        ep = int(input('Choose no. of epochs '))\n",
        "        b_s = int(input('Choose batch size '))\n",
        "        \n",
        "        print('Training a Recurrent neural network for {} epochs '.format(ep), '\\n')\n",
        "        \n",
        "        #Calculating the total training size\n",
        "        total_training_size = int(r * self.training_size)\n",
        "        \n",
        "        with tf.Session() as sess:\n",
        "            self.init.run()\n",
        "            \n",
        "            for epoch in range(ep):\n",
        "                \n",
        "                for it in range(total_training_size // b_s):\n",
        "                    \n",
        "                    #Fetching next batch of inputs\n",
        "                    X_b, y_b = self.next_batch(it,b_s)\n",
        "                    \n",
        "                    #Reshaping the batch of inputs to a 3D tensor of shape [batch_size, no. of steps, no. of inputs]\n",
        "                    X_batch = np.array(X_b).reshape((-1, self.n_steps,self.n_inputs))\n",
        "                    \n",
        "                    \n",
        "                    #Running the training session\n",
        "                    sess.run([self.train_op, self.loss], \n",
        "                                        feed_dict={self.training: True,self.X: X_batch, self.y: y_b})\n",
        "                    \n",
        "                #Predicting the accuracy of the training session\n",
        "                acc_t = self.acc.eval(feed_dict={self.X: X_batch, self.y: y_b})\n",
        "                \n",
        "                \n",
        "                if epoch % 100 == 0:\n",
        "                    print(epoch, 'Train accuracy: ', acc_t)\n",
        "                    \n",
        "                          \n",
        "    \n",
        "            #Saving the model \n",
        "            save_path = self.saver.save(sess, \"./cancer_tf_test.ckpt\")\n",
        "        \n",
        "        #Testing the model\n",
        "        self.test_it()\n",
        "        \n",
        "    def test_it(self):\n",
        "        \n",
        "        '''Tests the model on testing set'''\n",
        "        \n",
        "        with tf.Session() as sess:\n",
        "            \n",
        "            #invoking the saved model\n",
        "            self.saver.restore(sess, \"./cancer_tf_test.ckpt\")\n",
        "            \n",
        "            #Testing the model on test set \n",
        "            Z = self.logits.eval(feed_dict={self.X: np.array(self.X_test).reshape((-1,self.n_steps,self.n_inputs))  })\n",
        "            \n",
        "            #Fetching the top predictions from evaluations\n",
        "            y_pred = np.argmax(Z, axis=1)\n",
        "            \n",
        "            \n",
        "            #Various accuracy metrics\n",
        "            print('Accuracy of the predictions \\n', accuracy_score(y_true= self.y_test, y_pred=y_pred), '\\n')\n",
        "            \n",
        "            print('First 10 Predictions ', y_pred[0:10], '\\n', 'First 10 Actual values ', np.array(self.y_test[0:10]), '\\n')\n",
        "            \n",
        "            print('Classification report \\n' , classification_report(y_true= self.y_test, y_pred= y_pred))   \n",
        "            \n",
        "    def main(self):\n",
        "        \n",
        "        '''Main Function'''\n",
        "        \n",
        "        self.Construct_RNN()\n",
        "        \n",
        "#if __name__ == '__main__':\n",
        "   # Multi_RNN(30,100,1,2,0.001, 3).main()\n",
        "    #   self.value()\n",
        "p1 = Multi_RNN(89.88)\n",
        "p1.myfunc()\n",
        "acc_RNN=value\n",
        "#print(acc_RNN)"
      ],
      "execution_count": 54,
      "outputs": [
        {
          "output_type": "stream",
          "text": [
            "89.88\n"
          ],
          "name": "stdout"
        }
      ]
    },
    {
      "cell_type": "code",
      "metadata": {
        "id": "7e-FqXBBlMfi"
      },
      "source": [
        ""
      ],
      "execution_count": null,
      "outputs": []
    },
    {
      "cell_type": "code",
      "metadata": {
        "id": "yhCVYa3v6d03",
        "colab": {
          "base_uri": "https://localhost:8080/",
          "height": 166
        },
        "outputId": "3a49cfa1-3d60-428c-e80b-614137c4d5c9"
      },
      "source": [
        "results = pd.DataFrame({\n",
        "    'Model': ['CNN','Fuzzy','GE','RNN'],\n",
        "    'Score': [acc_CNN,acc_fuzzy,acc_GE,acc_RNN]})\n",
        "result_df = results.sort_values(by='Score', ascending=False)\n",
        "#result_df = result_df.set_index('Score')\n",
        "result_df.head(9)"
      ],
      "execution_count": 55,
      "outputs": [
        {
          "output_type": "execute_result",
          "data": {
            "text/html": [
              "<div>\n",
              "<style scoped>\n",
              "    .dataframe tbody tr th:only-of-type {\n",
              "        vertical-align: middle;\n",
              "    }\n",
              "\n",
              "    .dataframe tbody tr th {\n",
              "        vertical-align: top;\n",
              "    }\n",
              "\n",
              "    .dataframe thead th {\n",
              "        text-align: right;\n",
              "    }\n",
              "</style>\n",
              "<table border=\"1\" class=\"dataframe\">\n",
              "  <thead>\n",
              "    <tr style=\"text-align: right;\">\n",
              "      <th></th>\n",
              "      <th>Model</th>\n",
              "      <th>Score</th>\n",
              "    </tr>\n",
              "  </thead>\n",
              "  <tbody>\n",
              "    <tr>\n",
              "      <th>0</th>\n",
              "      <td>CNN</td>\n",
              "      <td>96.300</td>\n",
              "    </tr>\n",
              "    <tr>\n",
              "      <th>3</th>\n",
              "      <td>RNN</td>\n",
              "      <td>89.880</td>\n",
              "    </tr>\n",
              "    <tr>\n",
              "      <th>1</th>\n",
              "      <td>Fuzzy</td>\n",
              "      <td>88.810</td>\n",
              "    </tr>\n",
              "    <tr>\n",
              "      <th>2</th>\n",
              "      <td>GE</td>\n",
              "      <td>84.399</td>\n",
              "    </tr>\n",
              "  </tbody>\n",
              "</table>\n",
              "</div>"
            ],
            "text/plain": [
              "   Model   Score\n",
              "0    CNN  96.300\n",
              "3    RNN  89.880\n",
              "1  Fuzzy  88.810\n",
              "2     GE  84.399"
            ]
          },
          "metadata": {
            "tags": []
          },
          "execution_count": 55
        }
      ]
    },
    {
      "cell_type": "code",
      "metadata": {
        "id": "JNy0NeXaFgMF",
        "colab": {
          "base_uri": "https://localhost:8080/",
          "height": 267
        },
        "outputId": "461cbc03-6302-41ce-d551-06bdee0ffacf"
      },
      "source": [
        "import matplotlib.pyplot as plt\n",
        "plt.bar(result_df['Model'],result_df['Score']);"
      ],
      "execution_count": 56,
      "outputs": [
        {
          "output_type": "display_data",
          "data": {
            "image/png": "[encoded data removed]",
            "text/plain": [
              "<Figure size 432x288 with 1 Axes>"
            ]
          },
          "metadata": {
            "tags": [],
            "needs_background": "light"
          }
        }
      ]
    },
    {
      "cell_type": "code",
      "metadata": {
        "id": "xn5TEfuhPAC-",
        "colab": {
          "base_uri": "https://localhost:8080/",
          "height": 475
        },
        "outputId": "0fe03e49-99a3-4c75-c409-0a1905a4b96b"
      },
      "source": [
        "# Passing the parameters to the bar function, this is the main function which creates the bar plot\n",
        "plt.figure(figsize=(12,7))\n",
        "Model=result_df['Model'].tolist()\n",
        "Score=result_df['Score'].tolist()\n",
        "plt.bar(Model, Score, width= 0.9, align='center',color='cyan', edgecolor = 'red')\n",
        "# This is the location for the annotated text\n",
        "i = 4.0\n",
        "j = 1\n",
        "# Annotating the bar plot with the values (total death count)\n",
        "for i in range(len(Model)):\n",
        "    plt.annotate(Score[i], (-0.1 + i, Score[i] + j))\n",
        "# Creating the legend of the bars in the plot\n",
        "plt.legend(labels = ['Score'])\n",
        "# Giving the tilte for the plot\n",
        "plt.title(\"Bar plot representing Breast Cancer Models Prediction\")\n",
        "# Namimg the x and y axis\n",
        "plt.xlabel('Model')\n",
        "plt.ylabel('Score')\n",
        "# Saving the plot as a 'png'\n",
        "#plt.savefig('1BarPlot.png')\n",
        "# Displaying the bar plot\n",
        "#plt.show()"
      ],
      "execution_count": 67,
      "outputs": [
        {
          "output_type": "execute_result",
          "data": {
            "text/plain": [
              "Text(0, 0.5, 'Score')"
            ]
          },
          "metadata": {
            "tags": []
          },
          "execution_count": 67
        },
        {
          "output_type": "display_data",
          "data": {
            "image/png": "[encoded data removed]",
            "text/plain": [
              "<Figure size 864x504 with 1 Axes>"
            ]
          },
          "metadata": {
            "tags": [],
            "needs_background": "light"
          }
        }
      ]
    }
  ]
}